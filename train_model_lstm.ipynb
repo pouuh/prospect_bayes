{
  "nbformat": 4,
  "nbformat_minor": 0,
  "metadata": {
    "colab": {
      "name": "train_model_lstm.ipynb",
      "provenance": [],
      "collapsed_sections": [],
      "mount_file_id": "https://gist.github.com/pouuh/bf1b3c4390886145cff4fc1152f73aa8#file-train_model2-ipynb",
      "authorship_tag": "ABX9TyO9ln3QUjLh20rRhMdxryEN",
      "include_colab_link": true
    },
    "kernelspec": {
      "name": "python3",
      "display_name": "Python 3"
    },
    "accelerator": "GPU"
  },
  "cells": [
    {
      "cell_type": "markdown",
      "metadata": {
        "id": "view-in-github",
        "colab_type": "text"
      },
      "source": [
        "<a href=\"https://colab.research.google.com/github/pouuh/prospect_bayes/blob/master/train_model_lstm.ipynb\" target=\"_parent\"><img src=\"https://colab.research.google.com/assets/colab-badge.svg\" alt=\"Open In Colab\"/></a>"
      ]
    },
    {
      "cell_type": "code",
      "metadata": {
        "id": "PC4oT8Btxvor"
      },
      "source": [
        "import pandas as pd\r\n",
        "import numpy as np\r\n",
        "import pdb"
      ],
      "execution_count": null,
      "outputs": []
    },
    {
      "cell_type": "code",
      "metadata": {
        "colab": {
          "base_uri": "https://localhost:8080/"
        },
        "id": "gB0Kw2EpHLA_",
        "outputId": "0fc4b701-a899-4853-c636-4d383f775105"
      },
      "source": [
        "import os\r\n",
        "import tensorflow as tf\r\n",
        "\r\n",
        "if 'COLAB_TPU_ADDR' not in os.environ:\r\n",
        "    print('ERROR: Not connected to a TPU runtime')\r\n",
        "else:\r\n",
        "    tpu_address = 'grpc://' + os.environ['COLAB_TPU_ADDR']\r\n",
        "    print ('TPU address is', tpu_address)"
      ],
      "execution_count": null,
      "outputs": [
        {
          "output_type": "stream",
          "text": [
            "ERROR: Not connected to a TPU runtime\n"
          ],
          "name": "stdout"
        }
      ]
    },
    {
      "cell_type": "code",
      "metadata": {
        "colab": {
          "base_uri": "https://localhost:8080/"
        },
        "id": "D6XWitw3yrUk",
        "outputId": "70a4b851-c951-4f16-be43-235ac0146eae"
      },
      "source": [
        "import pathlib\r\n",
        "\r\n",
        "import matplotlib.pyplot as plt\r\n",
        "import seaborn as sns\r\n",
        "\r\n",
        "import tensorflow as tf\r\n",
        "\r\n",
        "from tensorflow import keras\r\n",
        "from tensorflow.keras import layers\r\n",
        "\r\n",
        "print(tf.__version__)"
      ],
      "execution_count": null,
      "outputs": [
        {
          "output_type": "stream",
          "text": [
            "2.4.0\n"
          ],
          "name": "stdout"
        }
      ]
    },
    {
      "cell_type": "code",
      "metadata": {
        "id": "v-cUAUJ1xzhi"
      },
      "source": [
        "# from google.colab import drive\r\n",
        "# drive.mount('/content/drive')"
      ],
      "execution_count": null,
      "outputs": []
    },
    {
      "cell_type": "code",
      "metadata": {
        "id": "zv-1GATyyEqz",
        "colab": {
          "base_uri": "https://localhost:8080/"
        },
        "outputId": "ea15d7ba-e7eb-4242-fe0a-1400a1c12e40"
      },
      "source": [
        "# train_x=np.load('/content/drive/MyDrive/earthengine/train_x.npy')\r\n",
        "# train_y=np.load('/content/drive/MyDrive/earthengine/train_y.npy')\r\n",
        "\r\n",
        "train_x=np.load('/content/drive/MyDrive/earthengine2/train_x3.npy')\r\n",
        "train_y=np.load('/content/drive/MyDrive/earthengine2/train_y3.npy')\r\n",
        "\r\n",
        "print(train_x.shape)\r\n",
        "print(train_y.shape)"
      ],
      "execution_count": null,
      "outputs": [
        {
          "output_type": "stream",
          "text": [
            "(16298, 32, 32, 9)\n",
            "(16298, 1)\n"
          ],
          "name": "stdout"
        }
      ]
    },
    {
      "cell_type": "code",
      "metadata": {
        "id": "WY6VLQ9K9XXI",
        "colab": {
          "base_uri": "https://localhost:8080/"
        },
        "outputId": "17d86ee5-e115-463c-9de4-d4c52c91aff2"
      },
      "source": [
        "#check  and drop nan values\r\n",
        "idxs=np.where(np.isnan(np.sum(train_x,axis=(1,2,3))) == True)\r\n",
        "print(idxs)\r\n",
        "train_x=np.delete(train_x,idxs,0)\r\n",
        "train_y=np.delete(train_y,idxs,0)\r\n",
        "\r\n",
        "print('Final train shape')\r\n",
        "print(train_x.shape)\r\n",
        "print(train_y.shape)"
      ],
      "execution_count": null,
      "outputs": [
        {
          "output_type": "stream",
          "text": [
            "(array([    3,     5,    11, ..., 16295, 16296, 16297]),)\n",
            "Final train shape\n",
            "(13210, 32, 32, 9)\n",
            "(13210, 1)\n"
          ],
          "name": "stdout"
        }
      ]
    },
    {
      "cell_type": "code",
      "metadata": {
        "colab": {
          "base_uri": "https://localhost:8080/"
        },
        "id": "4tiK9TmqzaBK",
        "outputId": "a6da13e1-25c9-47fe-eb7c-21769228fb60"
      },
      "source": [
        "test_x=np.load('/content/drive/MyDrive/earthengine2/test_x3.npy')\r\n",
        "test_y=np.load('/content/drive/MyDrive/earthengine2/test_y3.npy')\r\n",
        "\r\n",
        "print(test_x.shape)\r\n",
        "print(test_y.shape)"
      ],
      "execution_count": null,
      "outputs": [
        {
          "output_type": "stream",
          "text": [
            "(1168, 32, 32, 9)\n",
            "(1168, 1)\n"
          ],
          "name": "stdout"
        }
      ]
    },
    {
      "cell_type": "code",
      "metadata": {
        "id": "9RA16-E--TgA",
        "colab": {
          "base_uri": "https://localhost:8080/"
        },
        "outputId": "ca5b294a-faed-4d0b-d38f-33c021764ee1"
      },
      "source": [
        "#check  and drop nan values\r\n",
        "idxs=np.where(np.isnan(np.sum(test_x,axis=(1,2,3))) == True)\r\n",
        "#print(idxs)\r\n",
        "test_x=np.delete(test_x,idxs,0)\r\n",
        "test_y=np.delete(test_y,idxs,0)\r\n",
        "\r\n",
        "print('Final test shape')\r\n",
        "print(test_x.shape)\r\n",
        "print(test_y.shape)"
      ],
      "execution_count": null,
      "outputs": [
        {
          "output_type": "stream",
          "text": [
            "Final test shape\n",
            "(925, 32, 32, 9)\n",
            "(925, 1)\n"
          ],
          "name": "stdout"
        }
      ]
    },
    {
      "cell_type": "code",
      "metadata": {
        "id": "8Q6eNN5b4Spx"
      },
      "source": [
        "# for idx in train_x.shape[0]:\r\n",
        "#   print(train_x[idx,:,:,:].shape)\r\n",
        "#   if np.isnan(np.sum(train_x[idx,:,:,:])) == 1:"
      ],
      "execution_count": null,
      "outputs": []
    },
    {
      "cell_type": "code",
      "metadata": {
        "colab": {
          "base_uri": "https://localhost:8080/"
        },
        "id": "lux7J_9J72oS",
        "outputId": "029d230a-f793-412b-b07f-092ef56c83a8"
      },
      "source": [
        "(17466-(13545+1085))/17466"
      ],
      "execution_count": null,
      "outputs": [
        {
          "output_type": "execute_result",
          "data": {
            "text/plain": [
              "0.16237260964158937"
            ]
          },
          "metadata": {
            "tags": []
          },
          "execution_count": 10
        }
      ]
    },
    {
      "cell_type": "code",
      "metadata": {
        "id": "A_cDLKTb8jCS",
        "colab": {
          "base_uri": "https://localhost:8080/"
        },
        "outputId": "e9a02b93-b12f-4d63-cca0-106fdd1d233b"
      },
      "source": [
        "13545+1085"
      ],
      "execution_count": null,
      "outputs": [
        {
          "output_type": "execute_result",
          "data": {
            "text/plain": [
              "14630"
            ]
          },
          "metadata": {
            "tags": []
          },
          "execution_count": 11
        }
      ]
    },
    {
      "cell_type": "code",
      "metadata": {
        "id": "x5Ud6qamyUfL"
      },
      "source": [
        "# train_ds = tf.data.Dataset.from_tensor_slices(\r\n",
        "#     (train_x, train_y)).shuffle(10000).batch(32)\r\n",
        "\r\n",
        "# test_ds = tf.data.Dataset.from_tensor_slices((test_x, test_y)).batch(32)"
      ],
      "execution_count": null,
      "outputs": []
    },
    {
      "cell_type": "code",
      "metadata": {
        "id": "hHdiYVhO0TIS"
      },
      "source": [
        "# model = tf.keras.models.Sequential([\r\n",
        "#   tf.keras.layers.Flatten(input_shape=(28, 28)),\r\n",
        "#   tf.keras.layers.Dense(128, activation='relu'),\r\n",
        "#   tf.keras.layers.Dropout(0.2),\r\n",
        "#   tf.keras.layers.Dense(10, activation='softmax')\r\n",
        "# ])\r\n",
        "\r\n",
        "model = tf.keras.models.Sequential()\r\n",
        "\r\n",
        "###############################################################\r\n",
        "model.add(layers.Conv2D(filters=128, kernel_size=(3, 3), padding='same', strides=1, input_shape=(32,32,9), activation='relu'))\r\n",
        "model.add(layers.BatchNormalization())\r\n",
        "model.add(layers.Dropout(0.5))\r\n",
        "\r\n",
        "model.add(layers.Conv2D(filters=256, kernel_size=(3, 3), strides=2, activation='relu'))\r\n",
        "model.add(layers.BatchNormalization())\r\n",
        "model.add(layers.Dropout(0.5))\r\n",
        "\r\n",
        "###############################################################\r\n",
        "model.add(layers.Conv2D(filters=256, kernel_size=(3, 3), strides=1, activation='relu'))\r\n",
        "model.add(layers.BatchNormalization())\r\n",
        "model.add(layers.Dropout(0.5))\r\n",
        "\r\n",
        "model.add(layers.Conv2D(filters=512, kernel_size=(3, 3), strides=2, activation='relu'))\r\n",
        "model.add(layers.BatchNormalization())\r\n",
        "model.add(layers.Dropout(0.5))\r\n",
        "\r\n",
        "###############################################################\r\n",
        "model.add(layers.Conv2D(filters=512, kernel_size=(3, 3), strides=1, activation='relu'))\r\n",
        "model.add(layers.BatchNormalization())\r\n",
        "model.add(layers.Dropout(0.5))\r\n",
        "\r\n",
        "model.add(layers.Conv2D(filters=1024, kernel_size=(3, 3), strides=2, activation='relu'))\r\n",
        "model.add(layers.BatchNormalization())\r\n",
        "model.add(layers.Dropout(0.5))\r\n",
        "\r\n",
        "###############################################################\r\n",
        "model.add(layers.Flatten())\r\n",
        "model.add(layers.Dense(1024))\r\n",
        "model.add(layers.Dense(1))\r\n"
      ],
      "execution_count": null,
      "outputs": []
    },
    {
      "cell_type": "code",
      "metadata": {
        "colab": {
          "base_uri": "https://localhost:8080/"
        },
        "id": "w0_fqYUC-sNd",
        "outputId": "f0831eb9-7340-464b-eef4-adaa20707385"
      },
      "source": [
        "model.summary()"
      ],
      "execution_count": null,
      "outputs": [
        {
          "output_type": "stream",
          "text": [
            "Model: \"sequential\"\n",
            "_________________________________________________________________\n",
            "Layer (type)                 Output Shape              Param #   \n",
            "=================================================================\n",
            "conv2d (Conv2D)              (None, 32, 32, 128)       10496     \n",
            "_________________________________________________________________\n",
            "batch_normalization (BatchNo (None, 32, 32, 128)       512       \n",
            "_________________________________________________________________\n",
            "dropout (Dropout)            (None, 32, 32, 128)       0         \n",
            "_________________________________________________________________\n",
            "conv2d_1 (Conv2D)            (None, 15, 15, 256)       295168    \n",
            "_________________________________________________________________\n",
            "batch_normalization_1 (Batch (None, 15, 15, 256)       1024      \n",
            "_________________________________________________________________\n",
            "dropout_1 (Dropout)          (None, 15, 15, 256)       0         \n",
            "_________________________________________________________________\n",
            "conv2d_2 (Conv2D)            (None, 13, 13, 256)       590080    \n",
            "_________________________________________________________________\n",
            "batch_normalization_2 (Batch (None, 13, 13, 256)       1024      \n",
            "_________________________________________________________________\n",
            "dropout_2 (Dropout)          (None, 13, 13, 256)       0         \n",
            "_________________________________________________________________\n",
            "conv2d_3 (Conv2D)            (None, 6, 6, 512)         1180160   \n",
            "_________________________________________________________________\n",
            "batch_normalization_3 (Batch (None, 6, 6, 512)         2048      \n",
            "_________________________________________________________________\n",
            "dropout_3 (Dropout)          (None, 6, 6, 512)         0         \n",
            "_________________________________________________________________\n",
            "conv2d_4 (Conv2D)            (None, 4, 4, 512)         2359808   \n",
            "_________________________________________________________________\n",
            "batch_normalization_4 (Batch (None, 4, 4, 512)         2048      \n",
            "_________________________________________________________________\n",
            "dropout_4 (Dropout)          (None, 4, 4, 512)         0         \n",
            "_________________________________________________________________\n",
            "conv2d_5 (Conv2D)            (None, 1, 1, 1024)        4719616   \n",
            "_________________________________________________________________\n",
            "batch_normalization_5 (Batch (None, 1, 1, 1024)        4096      \n",
            "_________________________________________________________________\n",
            "dropout_5 (Dropout)          (None, 1, 1, 1024)        0         \n",
            "_________________________________________________________________\n",
            "flatten (Flatten)            (None, 1024)              0         \n",
            "_________________________________________________________________\n",
            "dense (Dense)                (None, 1024)              1049600   \n",
            "_________________________________________________________________\n",
            "dense_1 (Dense)              (None, 1)                 1025      \n",
            "=================================================================\n",
            "Total params: 10,216,705\n",
            "Trainable params: 10,211,329\n",
            "Non-trainable params: 5,376\n",
            "_________________________________________________________________\n"
          ],
          "name": "stdout"
        }
      ]
    },
    {
      "cell_type": "code",
      "metadata": {
        "id": "sYZGlNUu-dRF"
      },
      "source": [
        "opt = tf.keras.optimizers.Adam(learning_rate=0.001)\r\n",
        "\r\n",
        "# model.compile(optimizer=opt,loss='mean_squared_error',metrics=['mae', 'mse'])\r\n",
        "model.compile(optimizer=opt,loss='mean_squared_error',metrics=['RootMeanSquaredError'])"
      ],
      "execution_count": null,
      "outputs": []
    },
    {
      "cell_type": "code",
      "metadata": {
        "colab": {
          "base_uri": "https://localhost:8080/"
        },
        "id": "_W9TuNw70WPj",
        "outputId": "6a9a3cf2-ac96-46fb-efec-3eb0d62006fa"
      },
      "source": [
        "# patient early stopping\r\n",
        "from keras.callbacks import EarlyStopping\r\n",
        "es = EarlyStopping(monitor='val_loss', mode='min', verbose=1, patience=100)\r\n",
        "\r\n",
        "\r\n",
        "from keras.callbacks import ModelCheckpoint\r\n",
        "checkpoint_filepath = '/content/drive/MyDrive/earthengine2/checkpoint/checkpoint'\r\n",
        "model_checkpoint_callback = tf.keras.callbacks.ModelCheckpoint(\r\n",
        "    filepath=checkpoint_filepath+\"weights-improvement-{epoch:02d}-{loss:.2f}.hdf5\",\r\n",
        "    save_weights_only=True,\r\n",
        "    monitor='val_loss',\r\n",
        "    mode='min',\r\n",
        "    save_best_only=True)\r\n",
        "\r\n",
        "\r\n",
        "import random\r\n",
        "index = [i for i in range(train_x.shape[0])] \r\n",
        "random.Random(1).shuffle(index) #设置‘seed’，保证每次产生结果一致\r\n",
        "train_x=train_x[index,:,:,:]\r\n",
        "train_y=train_y[index,:]\r\n",
        "print(train_x.shape)\r\n",
        "\r\n",
        "# # load weights\r\n",
        "# model.load_weights(\"/content/drive/MyDrive/earthengine2/checkpoint/checkpointweights-improvement-280-7.26.hdf5\")\r\n",
        "\r\n",
        "# fit model\r\n",
        "history = model.fit(train_x, train_y, epochs=1500, batch_size=128, verbose=1, validation_split = 0.2, callbacks=[es,model_checkpoint_callback])\r\n",
        "    # validation_split = 0.1,                      # suppress logging\r\n",
        "    # verbose=0,\r\n",
        "    # # Calculate validation results on 20% of the training data\r\n",
        "    # validation_split = 0.2)"
      ],
      "execution_count": null,
      "outputs": [
        {
          "output_type": "stream",
          "text": [
            "(13210, 32, 32, 9)\n",
            "Epoch 1/1500\n",
            "83/83 [==============================] - 17s 104ms/step - loss: 1444.4425 - root_mean_squared_error: 37.9051 - val_loss: 100.4194 - val_root_mean_squared_error: 10.0209\n",
            "Epoch 2/1500\n",
            "83/83 [==============================] - 7s 90ms/step - loss: 124.5718 - root_mean_squared_error: 11.1023 - val_loss: 104.6757 - val_root_mean_squared_error: 10.2311\n",
            "Epoch 3/1500\n",
            "83/83 [==============================] - 8s 92ms/step - loss: 67.1609 - root_mean_squared_error: 8.1946 - val_loss: 250.1980 - val_root_mean_squared_error: 15.8176\n",
            "Epoch 4/1500\n",
            "83/83 [==============================] - 8s 93ms/step - loss: 62.6506 - root_mean_squared_error: 7.9145 - val_loss: 165.3371 - val_root_mean_squared_error: 12.8583\n",
            "Epoch 5/1500\n",
            "83/83 [==============================] - 8s 94ms/step - loss: 59.6875 - root_mean_squared_error: 7.7235 - val_loss: 151.4094 - val_root_mean_squared_error: 12.3049\n",
            "Epoch 6/1500\n",
            "83/83 [==============================] - 8s 96ms/step - loss: 53.0861 - root_mean_squared_error: 7.2846 - val_loss: 123.1255 - val_root_mean_squared_error: 11.0962\n",
            "Epoch 7/1500\n",
            "83/83 [==============================] - 8s 98ms/step - loss: 52.4993 - root_mean_squared_error: 7.2450 - val_loss: 118.2008 - val_root_mean_squared_error: 10.8720\n",
            "Epoch 8/1500\n",
            "83/83 [==============================] - 8s 100ms/step - loss: 49.1227 - root_mean_squared_error: 7.0075 - val_loss: 68.0983 - val_root_mean_squared_error: 8.2522\n",
            "Epoch 9/1500\n",
            "83/83 [==============================] - 8s 102ms/step - loss: 45.5104 - root_mean_squared_error: 6.7450 - val_loss: 46.6881 - val_root_mean_squared_error: 6.8329\n",
            "Epoch 10/1500\n",
            "83/83 [==============================] - 8s 101ms/step - loss: 43.8247 - root_mean_squared_error: 6.6193 - val_loss: 35.8036 - val_root_mean_squared_error: 5.9836\n",
            "Epoch 11/1500\n",
            "83/83 [==============================] - 8s 100ms/step - loss: 43.3743 - root_mean_squared_error: 6.5851 - val_loss: 35.7584 - val_root_mean_squared_error: 5.9798\n",
            "Epoch 12/1500\n",
            "83/83 [==============================] - 8s 98ms/step - loss: 40.9048 - root_mean_squared_error: 6.3950 - val_loss: 34.3276 - val_root_mean_squared_error: 5.8590\n",
            "Epoch 13/1500\n",
            "83/83 [==============================] - 8s 97ms/step - loss: 40.4401 - root_mean_squared_error: 6.3587 - val_loss: 27.7222 - val_root_mean_squared_error: 5.2652\n",
            "Epoch 14/1500\n",
            "83/83 [==============================] - 8s 96ms/step - loss: 38.4431 - root_mean_squared_error: 6.2001 - val_loss: 56.4725 - val_root_mean_squared_error: 7.5148\n",
            "Epoch 15/1500\n",
            "83/83 [==============================] - 8s 97ms/step - loss: 39.5822 - root_mean_squared_error: 6.2905 - val_loss: 28.4540 - val_root_mean_squared_error: 5.3342\n",
            "Epoch 16/1500\n",
            "83/83 [==============================] - 8s 98ms/step - loss: 37.0074 - root_mean_squared_error: 6.0823 - val_loss: 23.4207 - val_root_mean_squared_error: 4.8395\n",
            "Epoch 17/1500\n",
            "83/83 [==============================] - 8s 99ms/step - loss: 36.2583 - root_mean_squared_error: 6.0208 - val_loss: 33.3204 - val_root_mean_squared_error: 5.7724\n",
            "Epoch 18/1500\n",
            "83/83 [==============================] - 8s 99ms/step - loss: 35.1357 - root_mean_squared_error: 5.9270 - val_loss: 25.1429 - val_root_mean_squared_error: 5.0143\n",
            "Epoch 19/1500\n",
            "83/83 [==============================] - 8s 99ms/step - loss: 34.0385 - root_mean_squared_error: 5.8334 - val_loss: 26.8289 - val_root_mean_squared_error: 5.1797\n",
            "Epoch 20/1500\n",
            "83/83 [==============================] - 8s 99ms/step - loss: 34.5011 - root_mean_squared_error: 5.8731 - val_loss: 25.4794 - val_root_mean_squared_error: 5.0477\n",
            "Epoch 21/1500\n",
            "83/83 [==============================] - 8s 99ms/step - loss: 33.9568 - root_mean_squared_error: 5.8248 - val_loss: 4514.7363 - val_root_mean_squared_error: 67.1918\n",
            "Epoch 22/1500\n",
            "83/83 [==============================] - 8s 98ms/step - loss: 45.1336 - root_mean_squared_error: 6.7147 - val_loss: 33.1182 - val_root_mean_squared_error: 5.7548\n",
            "Epoch 23/1500\n",
            "83/83 [==============================] - 8s 98ms/step - loss: 36.8051 - root_mean_squared_error: 6.0665 - val_loss: 25.6368 - val_root_mean_squared_error: 5.0633\n",
            "Epoch 24/1500\n",
            "83/83 [==============================] - 8s 97ms/step - loss: 34.4043 - root_mean_squared_error: 5.8643 - val_loss: 69241.6406 - val_root_mean_squared_error: 263.1381\n",
            "Epoch 25/1500\n",
            "83/83 [==============================] - 8s 98ms/step - loss: 41.6898 - root_mean_squared_error: 6.4551 - val_loss: 32.6861 - val_root_mean_squared_error: 5.7172\n",
            "Epoch 26/1500\n",
            "83/83 [==============================] - 8s 98ms/step - loss: 36.5602 - root_mean_squared_error: 6.0462 - val_loss: 51.2621 - val_root_mean_squared_error: 7.1598\n",
            "Epoch 27/1500\n",
            "83/83 [==============================] - 8s 98ms/step - loss: 35.2290 - root_mean_squared_error: 5.9349 - val_loss: 23.2429 - val_root_mean_squared_error: 4.8211\n",
            "Epoch 28/1500\n",
            "83/83 [==============================] - 8s 98ms/step - loss: 33.1525 - root_mean_squared_error: 5.7558 - val_loss: 2834505.5000 - val_root_mean_squared_error: 1683.5990\n",
            "Epoch 29/1500\n",
            "83/83 [==============================] - 8s 98ms/step - loss: 64.4328 - root_mean_squared_error: 8.0144 - val_loss: 374.7189 - val_root_mean_squared_error: 19.3577\n",
            "Epoch 30/1500\n",
            "83/83 [==============================] - 8s 99ms/step - loss: 41.3495 - root_mean_squared_error: 6.4287 - val_loss: 29.3617 - val_root_mean_squared_error: 5.4186\n",
            "Epoch 31/1500\n",
            "83/83 [==============================] - 8s 99ms/step - loss: 36.3659 - root_mean_squared_error: 6.0300 - val_loss: 32.5079 - val_root_mean_squared_error: 5.7016\n",
            "Epoch 32/1500\n",
            "83/83 [==============================] - 8s 99ms/step - loss: 37.0349 - root_mean_squared_error: 6.0842 - val_loss: 27.7037 - val_root_mean_squared_error: 5.2634\n",
            "Epoch 33/1500\n",
            "83/83 [==============================] - 8s 98ms/step - loss: 36.0012 - root_mean_squared_error: 5.9997 - val_loss: 24.7513 - val_root_mean_squared_error: 4.9751\n",
            "Epoch 34/1500\n",
            "83/83 [==============================] - 8s 98ms/step - loss: 35.5665 - root_mean_squared_error: 5.9616 - val_loss: 30.6195 - val_root_mean_squared_error: 5.5335\n",
            "Epoch 35/1500\n",
            "83/83 [==============================] - 8s 98ms/step - loss: 32.8278 - root_mean_squared_error: 5.7285 - val_loss: 28.1528 - val_root_mean_squared_error: 5.3059\n",
            "Epoch 36/1500\n",
            "83/83 [==============================] - 8s 98ms/step - loss: 32.2349 - root_mean_squared_error: 5.6768 - val_loss: 21.7940 - val_root_mean_squared_error: 4.6684\n",
            "Epoch 37/1500\n",
            "83/83 [==============================] - 8s 97ms/step - loss: 31.7774 - root_mean_squared_error: 5.6365 - val_loss: 23.1558 - val_root_mean_squared_error: 4.8120\n",
            "Epoch 38/1500\n",
            "83/83 [==============================] - 8s 98ms/step - loss: 31.4269 - root_mean_squared_error: 5.6058 - val_loss: 23.4856 - val_root_mean_squared_error: 4.8462\n",
            "Epoch 39/1500\n",
            "83/83 [==============================] - 8s 98ms/step - loss: 30.0098 - root_mean_squared_error: 5.4773 - val_loss: 29.2469 - val_root_mean_squared_error: 5.4080\n",
            "Epoch 40/1500\n",
            "83/83 [==============================] - 8s 98ms/step - loss: 30.4812 - root_mean_squared_error: 5.5197 - val_loss: 27.1330 - val_root_mean_squared_error: 5.2089\n",
            "Epoch 41/1500\n",
            "83/83 [==============================] - 8s 98ms/step - loss: 30.8260 - root_mean_squared_error: 5.5520 - val_loss: 22.2845 - val_root_mean_squared_error: 4.7206\n",
            "Epoch 42/1500\n",
            "83/83 [==============================] - 8s 98ms/step - loss: 28.3850 - root_mean_squared_error: 5.3274 - val_loss: 28.1279 - val_root_mean_squared_error: 5.3036\n",
            "Epoch 43/1500\n",
            "83/83 [==============================] - 8s 98ms/step - loss: 28.1271 - root_mean_squared_error: 5.3029 - val_loss: 20.2282 - val_root_mean_squared_error: 4.4976\n",
            "Epoch 44/1500\n",
            "83/83 [==============================] - 8s 99ms/step - loss: 27.3243 - root_mean_squared_error: 5.2260 - val_loss: 19.4317 - val_root_mean_squared_error: 4.4081\n",
            "Epoch 45/1500\n",
            "83/83 [==============================] - 8s 98ms/step - loss: 27.5855 - root_mean_squared_error: 5.2513 - val_loss: 22.6149 - val_root_mean_squared_error: 4.7555\n",
            "Epoch 46/1500\n",
            "83/83 [==============================] - 8s 98ms/step - loss: 26.8191 - root_mean_squared_error: 5.1784 - val_loss: 27.3804 - val_root_mean_squared_error: 5.2326\n",
            "Epoch 47/1500\n",
            "83/83 [==============================] - 8s 98ms/step - loss: 24.7409 - root_mean_squared_error: 4.9722 - val_loss: 22.1913 - val_root_mean_squared_error: 4.7108\n",
            "Epoch 48/1500\n",
            "83/83 [==============================] - 8s 99ms/step - loss: 25.7470 - root_mean_squared_error: 5.0737 - val_loss: 23.5590 - val_root_mean_squared_error: 4.8538\n",
            "Epoch 49/1500\n",
            "83/83 [==============================] - 8s 98ms/step - loss: 25.4087 - root_mean_squared_error: 5.0398 - val_loss: 64.0400 - val_root_mean_squared_error: 8.0025\n",
            "Epoch 50/1500\n",
            "83/83 [==============================] - 8s 98ms/step - loss: 25.0320 - root_mean_squared_error: 5.0025 - val_loss: 35.4006 - val_root_mean_squared_error: 5.9498\n",
            "Epoch 51/1500\n",
            "83/83 [==============================] - 8s 98ms/step - loss: 57.2927 - root_mean_squared_error: 7.1518 - val_loss: 1790.8862 - val_root_mean_squared_error: 42.3189\n",
            "Epoch 52/1500\n",
            "83/83 [==============================] - 8s 98ms/step - loss: 96.1598 - root_mean_squared_error: 9.8019 - val_loss: 82.3767 - val_root_mean_squared_error: 9.0762\n",
            "Epoch 53/1500\n",
            "83/83 [==============================] - 8s 98ms/step - loss: 70.8374 - root_mean_squared_error: 8.4159 - val_loss: 31.9925 - val_root_mean_squared_error: 5.6562\n",
            "Epoch 54/1500\n",
            "83/83 [==============================] - 8s 98ms/step - loss: 59.1381 - root_mean_squared_error: 7.6886 - val_loss: 28.8442 - val_root_mean_squared_error: 5.3707\n",
            "Epoch 55/1500\n",
            "83/83 [==============================] - 8s 98ms/step - loss: 53.3944 - root_mean_squared_error: 7.3053 - val_loss: 29.6123 - val_root_mean_squared_error: 5.4417\n",
            "Epoch 56/1500\n",
            "83/83 [==============================] - 8s 98ms/step - loss: 46.4217 - root_mean_squared_error: 6.8124 - val_loss: 27.3265 - val_root_mean_squared_error: 5.2275\n",
            "Epoch 57/1500\n",
            "83/83 [==============================] - 8s 97ms/step - loss: 45.0223 - root_mean_squared_error: 6.7091 - val_loss: 29.0825 - val_root_mean_squared_error: 5.3928\n",
            "Epoch 58/1500\n",
            "83/83 [==============================] - 8s 98ms/step - loss: 41.5623 - root_mean_squared_error: 6.4461 - val_loss: 24.2596 - val_root_mean_squared_error: 4.9254\n",
            "Epoch 59/1500\n",
            "83/83 [==============================] - 8s 98ms/step - loss: 40.1472 - root_mean_squared_error: 6.3359 - val_loss: 23.3953 - val_root_mean_squared_error: 4.8369\n",
            "Epoch 60/1500\n",
            "83/83 [==============================] - 8s 98ms/step - loss: 37.1727 - root_mean_squared_error: 6.0966 - val_loss: 23.1918 - val_root_mean_squared_error: 4.8158\n",
            "Epoch 61/1500\n",
            "83/83 [==============================] - 8s 98ms/step - loss: 37.8614 - root_mean_squared_error: 6.1529 - val_loss: 22.6911 - val_root_mean_squared_error: 4.7635\n",
            "Epoch 62/1500\n",
            "83/83 [==============================] - 8s 98ms/step - loss: 35.1822 - root_mean_squared_error: 5.9313 - val_loss: 21.4739 - val_root_mean_squared_error: 4.6340\n",
            "Epoch 63/1500\n",
            "83/83 [==============================] - 8s 98ms/step - loss: 33.7680 - root_mean_squared_error: 5.8105 - val_loss: 32.0115 - val_root_mean_squared_error: 5.6579\n",
            "Epoch 64/1500\n",
            "83/83 [==============================] - 8s 98ms/step - loss: 33.3562 - root_mean_squared_error: 5.7752 - val_loss: 19.0413 - val_root_mean_squared_error: 4.3636\n",
            "Epoch 65/1500\n",
            "83/83 [==============================] - 8s 98ms/step - loss: 30.6659 - root_mean_squared_error: 5.5352 - val_loss: 21.2034 - val_root_mean_squared_error: 4.6047\n",
            "Epoch 66/1500\n",
            "83/83 [==============================] - 8s 98ms/step - loss: 32.6649 - root_mean_squared_error: 5.7145 - val_loss: 22.0677 - val_root_mean_squared_error: 4.6976\n",
            "Epoch 67/1500\n",
            "83/83 [==============================] - 8s 99ms/step - loss: 32.4489 - root_mean_squared_error: 5.6952 - val_loss: 20.3797 - val_root_mean_squared_error: 4.5144\n",
            "Epoch 68/1500\n",
            "83/83 [==============================] - 8s 98ms/step - loss: 28.8303 - root_mean_squared_error: 5.3687 - val_loss: 32.0733 - val_root_mean_squared_error: 5.6633\n",
            "Epoch 69/1500\n",
            "83/83 [==============================] - 8s 98ms/step - loss: 29.1878 - root_mean_squared_error: 5.4021 - val_loss: 25.4339 - val_root_mean_squared_error: 5.0432\n",
            "Epoch 70/1500\n",
            "83/83 [==============================] - 8s 98ms/step - loss: 27.6968 - root_mean_squared_error: 5.2618 - val_loss: 17.8293 - val_root_mean_squared_error: 4.2225\n",
            "Epoch 71/1500\n",
            "83/83 [==============================] - 8s 98ms/step - loss: 27.3239 - root_mean_squared_error: 5.2267 - val_loss: 20.6830 - val_root_mean_squared_error: 4.5479\n",
            "Epoch 72/1500\n",
            "83/83 [==============================] - 8s 98ms/step - loss: 28.0034 - root_mean_squared_error: 5.2912 - val_loss: 22.8654 - val_root_mean_squared_error: 4.7818\n",
            "Epoch 73/1500\n",
            "83/83 [==============================] - 8s 98ms/step - loss: 29.2612 - root_mean_squared_error: 5.4057 - val_loss: 18.8750 - val_root_mean_squared_error: 4.3445\n",
            "Epoch 74/1500\n",
            "83/83 [==============================] - 8s 99ms/step - loss: 26.6731 - root_mean_squared_error: 5.1643 - val_loss: 21.9689 - val_root_mean_squared_error: 4.6871\n",
            "Epoch 75/1500\n",
            "83/83 [==============================] - 8s 98ms/step - loss: 27.1902 - root_mean_squared_error: 5.2120 - val_loss: 20.5271 - val_root_mean_squared_error: 4.5307\n",
            "Epoch 76/1500\n",
            "83/83 [==============================] - 8s 98ms/step - loss: 24.6793 - root_mean_squared_error: 4.9674 - val_loss: 17.8803 - val_root_mean_squared_error: 4.2285\n",
            "Epoch 77/1500\n",
            "83/83 [==============================] - 8s 98ms/step - loss: 24.5889 - root_mean_squared_error: 4.9583 - val_loss: 18.4124 - val_root_mean_squared_error: 4.2910\n",
            "Epoch 78/1500\n",
            "83/83 [==============================] - 8s 98ms/step - loss: 24.4017 - root_mean_squared_error: 4.9396 - val_loss: 19.3594 - val_root_mean_squared_error: 4.3999\n",
            "Epoch 79/1500\n",
            "83/83 [==============================] - 8s 98ms/step - loss: 23.8441 - root_mean_squared_error: 4.8827 - val_loss: 18.4642 - val_root_mean_squared_error: 4.2970\n",
            "Epoch 80/1500\n",
            "83/83 [==============================] - 8s 98ms/step - loss: 23.6928 - root_mean_squared_error: 4.8673 - val_loss: 17.6682 - val_root_mean_squared_error: 4.2034\n",
            "Epoch 81/1500\n",
            "83/83 [==============================] - 8s 98ms/step - loss: 24.3322 - root_mean_squared_error: 4.9315 - val_loss: 17.6435 - val_root_mean_squared_error: 4.2004\n",
            "Epoch 82/1500\n",
            "83/83 [==============================] - 8s 98ms/step - loss: 21.4842 - root_mean_squared_error: 4.6347 - val_loss: 18.5772 - val_root_mean_squared_error: 4.3101\n",
            "Epoch 83/1500\n",
            "83/83 [==============================] - 8s 98ms/step - loss: 22.2100 - root_mean_squared_error: 4.7125 - val_loss: 18.1080 - val_root_mean_squared_error: 4.2554\n",
            "Epoch 84/1500\n",
            "83/83 [==============================] - 8s 98ms/step - loss: 22.4705 - root_mean_squared_error: 4.7394 - val_loss: 16.4240 - val_root_mean_squared_error: 4.0526\n",
            "Epoch 85/1500\n",
            "83/83 [==============================] - 8s 98ms/step - loss: 22.0882 - root_mean_squared_error: 4.6996 - val_loss: 16.7894 - val_root_mean_squared_error: 4.0975\n",
            "Epoch 86/1500\n",
            "83/83 [==============================] - 8s 98ms/step - loss: 22.5001 - root_mean_squared_error: 4.7423 - val_loss: 17.5654 - val_root_mean_squared_error: 4.1911\n",
            "Epoch 87/1500\n",
            "83/83 [==============================] - 8s 98ms/step - loss: 21.7433 - root_mean_squared_error: 4.6621 - val_loss: 19.2047 - val_root_mean_squared_error: 4.3823\n",
            "Epoch 88/1500\n",
            "83/83 [==============================] - 8s 98ms/step - loss: 20.6597 - root_mean_squared_error: 4.5448 - val_loss: 21.8383 - val_root_mean_squared_error: 4.6731\n",
            "Epoch 89/1500\n",
            "83/83 [==============================] - 8s 98ms/step - loss: 20.6379 - root_mean_squared_error: 4.5426 - val_loss: 19.6974 - val_root_mean_squared_error: 4.4382\n",
            "Epoch 90/1500\n",
            "83/83 [==============================] - 8s 98ms/step - loss: 20.6816 - root_mean_squared_error: 4.5472 - val_loss: 17.4544 - val_root_mean_squared_error: 4.1778\n",
            "Epoch 91/1500\n",
            "83/83 [==============================] - 8s 98ms/step - loss: 19.4112 - root_mean_squared_error: 4.4050 - val_loss: 19.7413 - val_root_mean_squared_error: 4.4431\n",
            "Epoch 92/1500\n",
            "83/83 [==============================] - 8s 98ms/step - loss: 18.6545 - root_mean_squared_error: 4.3187 - val_loss: 17.1673 - val_root_mean_squared_error: 4.1433\n",
            "Epoch 93/1500\n",
            "83/83 [==============================] - 8s 99ms/step - loss: 19.6498 - root_mean_squared_error: 4.4317 - val_loss: 19.2270 - val_root_mean_squared_error: 4.3849\n",
            "Epoch 94/1500\n",
            "83/83 [==============================] - 8s 98ms/step - loss: 20.2611 - root_mean_squared_error: 4.4995 - val_loss: 19.9470 - val_root_mean_squared_error: 4.4662\n",
            "Epoch 95/1500\n",
            "83/83 [==============================] - 8s 98ms/step - loss: 19.5622 - root_mean_squared_error: 4.4224 - val_loss: 16.8130 - val_root_mean_squared_error: 4.1004\n",
            "Epoch 96/1500\n",
            "83/83 [==============================] - 8s 98ms/step - loss: 17.9262 - root_mean_squared_error: 4.2337 - val_loss: 17.3386 - val_root_mean_squared_error: 4.1640\n",
            "Epoch 97/1500\n",
            "83/83 [==============================] - 8s 98ms/step - loss: 19.4001 - root_mean_squared_error: 4.4041 - val_loss: 16.8898 - val_root_mean_squared_error: 4.1097\n",
            "Epoch 98/1500\n",
            "83/83 [==============================] - 8s 98ms/step - loss: 18.1032 - root_mean_squared_error: 4.2543 - val_loss: 17.3104 - val_root_mean_squared_error: 4.1606\n",
            "Epoch 99/1500\n",
            "83/83 [==============================] - 8s 98ms/step - loss: 17.1000 - root_mean_squared_error: 4.1348 - val_loss: 20.6348 - val_root_mean_squared_error: 4.5426\n",
            "Epoch 100/1500\n",
            "83/83 [==============================] - 8s 98ms/step - loss: 18.8828 - root_mean_squared_error: 4.3448 - val_loss: 16.8441 - val_root_mean_squared_error: 4.1042\n",
            "Epoch 101/1500\n",
            "83/83 [==============================] - 8s 98ms/step - loss: 18.1279 - root_mean_squared_error: 4.2566 - val_loss: 21.4277 - val_root_mean_squared_error: 4.6290\n",
            "Epoch 102/1500\n",
            "83/83 [==============================] - 8s 98ms/step - loss: 18.0816 - root_mean_squared_error: 4.2499 - val_loss: 18.0811 - val_root_mean_squared_error: 4.2522\n",
            "Epoch 103/1500\n",
            "83/83 [==============================] - 8s 98ms/step - loss: 16.9144 - root_mean_squared_error: 4.1119 - val_loss: 18.1953 - val_root_mean_squared_error: 4.2656\n",
            "Epoch 104/1500\n",
            "83/83 [==============================] - 8s 98ms/step - loss: 17.3168 - root_mean_squared_error: 4.1597 - val_loss: 17.6807 - val_root_mean_squared_error: 4.2048\n",
            "Epoch 105/1500\n",
            "83/83 [==============================] - 8s 98ms/step - loss: 16.4358 - root_mean_squared_error: 4.0539 - val_loss: 16.2358 - val_root_mean_squared_error: 4.0294\n",
            "Epoch 106/1500\n",
            "83/83 [==============================] - 8s 98ms/step - loss: 15.8286 - root_mean_squared_error: 3.9778 - val_loss: 19.0357 - val_root_mean_squared_error: 4.3630\n",
            "Epoch 107/1500\n",
            "83/83 [==============================] - 8s 99ms/step - loss: 16.2689 - root_mean_squared_error: 4.0334 - val_loss: 16.5781 - val_root_mean_squared_error: 4.0716\n",
            "Epoch 108/1500\n",
            "83/83 [==============================] - 8s 98ms/step - loss: 16.6038 - root_mean_squared_error: 4.0737 - val_loss: 18.2418 - val_root_mean_squared_error: 4.2710\n",
            "Epoch 109/1500\n",
            "83/83 [==============================] - 8s 98ms/step - loss: 17.0267 - root_mean_squared_error: 4.1245 - val_loss: 17.5887 - val_root_mean_squared_error: 4.1939\n",
            "Epoch 110/1500\n",
            "83/83 [==============================] - 8s 98ms/step - loss: 15.3035 - root_mean_squared_error: 3.9117 - val_loss: 17.9114 - val_root_mean_squared_error: 4.2322\n",
            "Epoch 111/1500\n",
            "83/83 [==============================] - 8s 99ms/step - loss: 15.0668 - root_mean_squared_error: 3.8812 - val_loss: 17.1023 - val_root_mean_squared_error: 4.1355\n",
            "Epoch 112/1500\n",
            "83/83 [==============================] - 8s 98ms/step - loss: 15.3693 - root_mean_squared_error: 3.9191 - val_loss: 17.1358 - val_root_mean_squared_error: 4.1395\n",
            "Epoch 113/1500\n",
            "83/83 [==============================] - 8s 98ms/step - loss: 14.9260 - root_mean_squared_error: 3.8621 - val_loss: 17.1706 - val_root_mean_squared_error: 4.1437\n",
            "Epoch 114/1500\n",
            "83/83 [==============================] - 8s 98ms/step - loss: 15.0358 - root_mean_squared_error: 3.8769 - val_loss: 17.2328 - val_root_mean_squared_error: 4.1512\n",
            "Epoch 115/1500\n",
            "83/83 [==============================] - 8s 98ms/step - loss: 15.3773 - root_mean_squared_error: 3.9196 - val_loss: 17.6665 - val_root_mean_squared_error: 4.2031\n",
            "Epoch 116/1500\n",
            "83/83 [==============================] - 8s 98ms/step - loss: 14.7187 - root_mean_squared_error: 3.8362 - val_loss: 17.3950 - val_root_mean_squared_error: 4.1707\n",
            "Epoch 117/1500\n",
            "83/83 [==============================] - 8s 98ms/step - loss: 15.3603 - root_mean_squared_error: 3.9185 - val_loss: 16.6726 - val_root_mean_squared_error: 4.0832\n",
            "Epoch 118/1500\n",
            "83/83 [==============================] - 8s 97ms/step - loss: 14.0139 - root_mean_squared_error: 3.7433 - val_loss: 21.7126 - val_root_mean_squared_error: 4.6597\n",
            "Epoch 119/1500\n",
            "83/83 [==============================] - 8s 98ms/step - loss: 14.4393 - root_mean_squared_error: 3.7996 - val_loss: 16.8707 - val_root_mean_squared_error: 4.1074\n",
            "Epoch 120/1500\n",
            "83/83 [==============================] - 8s 98ms/step - loss: 14.4381 - root_mean_squared_error: 3.7987 - val_loss: 29.9815 - val_root_mean_squared_error: 5.4755\n",
            "Epoch 121/1500\n",
            "83/83 [==============================] - 8s 98ms/step - loss: 14.3630 - root_mean_squared_error: 3.7886 - val_loss: 18.7208 - val_root_mean_squared_error: 4.3268\n",
            "Epoch 122/1500\n",
            "83/83 [==============================] - 8s 98ms/step - loss: 13.2288 - root_mean_squared_error: 3.6354 - val_loss: 17.4701 - val_root_mean_squared_error: 4.1797\n",
            "Epoch 123/1500\n",
            "83/83 [==============================] - 8s 98ms/step - loss: 12.7482 - root_mean_squared_error: 3.5702 - val_loss: 17.6941 - val_root_mean_squared_error: 4.2064\n",
            "Epoch 124/1500\n",
            "83/83 [==============================] - 8s 98ms/step - loss: 13.8191 - root_mean_squared_error: 3.7171 - val_loss: 22.7765 - val_root_mean_squared_error: 4.7725\n",
            "Epoch 125/1500\n",
            "83/83 [==============================] - 8s 98ms/step - loss: 14.9116 - root_mean_squared_error: 3.8611 - val_loss: 17.4056 - val_root_mean_squared_error: 4.1720\n",
            "Epoch 126/1500\n",
            "83/83 [==============================] - 8s 98ms/step - loss: 13.2152 - root_mean_squared_error: 3.6346 - val_loss: 17.5613 - val_root_mean_squared_error: 4.1906\n",
            "Epoch 127/1500\n",
            "83/83 [==============================] - 8s 97ms/step - loss: 13.7589 - root_mean_squared_error: 3.7088 - val_loss: 18.8624 - val_root_mean_squared_error: 4.3431\n",
            "Epoch 128/1500\n",
            "83/83 [==============================] - 8s 98ms/step - loss: 12.6874 - root_mean_squared_error: 3.5614 - val_loss: 17.5378 - val_root_mean_squared_error: 4.1878\n",
            "Epoch 129/1500\n",
            "83/83 [==============================] - 8s 98ms/step - loss: 13.0924 - root_mean_squared_error: 3.6180 - val_loss: 16.9646 - val_root_mean_squared_error: 4.1188\n",
            "Epoch 130/1500\n",
            "83/83 [==============================] - 8s 97ms/step - loss: 13.3249 - root_mean_squared_error: 3.6499 - val_loss: 21.6724 - val_root_mean_squared_error: 4.6554\n",
            "Epoch 131/1500\n",
            "83/83 [==============================] - 8s 97ms/step - loss: 12.8385 - root_mean_squared_error: 3.5826 - val_loss: 16.0408 - val_root_mean_squared_error: 4.0051\n",
            "Epoch 132/1500\n",
            "83/83 [==============================] - 8s 98ms/step - loss: 13.7175 - root_mean_squared_error: 3.7006 - val_loss: 17.8749 - val_root_mean_squared_error: 4.2279\n",
            "Epoch 133/1500\n",
            "83/83 [==============================] - 8s 98ms/step - loss: 12.1233 - root_mean_squared_error: 3.4814 - val_loss: 19.0114 - val_root_mean_squared_error: 4.3602\n",
            "Epoch 134/1500\n",
            "83/83 [==============================] - 8s 98ms/step - loss: 12.7080 - root_mean_squared_error: 3.5647 - val_loss: 16.8528 - val_root_mean_squared_error: 4.1052\n",
            "Epoch 135/1500\n",
            "83/83 [==============================] - 8s 98ms/step - loss: 12.2406 - root_mean_squared_error: 3.4974 - val_loss: 16.6834 - val_root_mean_squared_error: 4.0845\n",
            "Epoch 136/1500\n",
            "83/83 [==============================] - 8s 98ms/step - loss: 12.2294 - root_mean_squared_error: 3.4966 - val_loss: 16.3783 - val_root_mean_squared_error: 4.0470\n",
            "Epoch 137/1500\n",
            "83/83 [==============================] - 8s 98ms/step - loss: 12.5415 - root_mean_squared_error: 3.5407 - val_loss: 17.3910 - val_root_mean_squared_error: 4.1703\n",
            "Epoch 138/1500\n",
            "83/83 [==============================] - 8s 98ms/step - loss: 12.4557 - root_mean_squared_error: 3.5285 - val_loss: 18.2820 - val_root_mean_squared_error: 4.2757\n",
            "Epoch 139/1500\n",
            "83/83 [==============================] - 8s 98ms/step - loss: 12.1994 - root_mean_squared_error: 3.4917 - val_loss: 17.7148 - val_root_mean_squared_error: 4.2089\n",
            "Epoch 140/1500\n",
            "83/83 [==============================] - 8s 98ms/step - loss: 11.9675 - root_mean_squared_error: 3.4591 - val_loss: 16.8916 - val_root_mean_squared_error: 4.1099\n",
            "Epoch 141/1500\n",
            "83/83 [==============================] - 8s 98ms/step - loss: 11.9057 - root_mean_squared_error: 3.4501 - val_loss: 18.8120 - val_root_mean_squared_error: 4.3373\n",
            "Epoch 142/1500\n",
            "83/83 [==============================] - 8s 98ms/step - loss: 11.9158 - root_mean_squared_error: 3.4508 - val_loss: 17.6866 - val_root_mean_squared_error: 4.2055\n",
            "Epoch 143/1500\n",
            "83/83 [==============================] - 8s 98ms/step - loss: 11.7286 - root_mean_squared_error: 3.4237 - val_loss: 17.3354 - val_root_mean_squared_error: 4.1636\n",
            "Epoch 144/1500\n",
            "83/83 [==============================] - 8s 98ms/step - loss: 11.5233 - root_mean_squared_error: 3.3940 - val_loss: 17.1775 - val_root_mean_squared_error: 4.1446\n",
            "Epoch 145/1500\n",
            "83/83 [==============================] - 8s 98ms/step - loss: 11.6872 - root_mean_squared_error: 3.4179 - val_loss: 16.7314 - val_root_mean_squared_error: 4.0904\n",
            "Epoch 146/1500\n",
            "83/83 [==============================] - 8s 98ms/step - loss: 11.5862 - root_mean_squared_error: 3.4035 - val_loss: 20.9477 - val_root_mean_squared_error: 4.5769\n",
            "Epoch 147/1500\n",
            "83/83 [==============================] - 8s 98ms/step - loss: 11.0774 - root_mean_squared_error: 3.3276 - val_loss: 21.2529 - val_root_mean_squared_error: 4.6101\n",
            "Epoch 148/1500\n",
            "83/83 [==============================] - 8s 98ms/step - loss: 11.5802 - root_mean_squared_error: 3.4025 - val_loss: 16.5158 - val_root_mean_squared_error: 4.0640\n",
            "Epoch 149/1500\n",
            "83/83 [==============================] - 8s 98ms/step - loss: 11.1772 - root_mean_squared_error: 3.3426 - val_loss: 17.4610 - val_root_mean_squared_error: 4.1786\n",
            "Epoch 150/1500\n",
            "83/83 [==============================] - 8s 98ms/step - loss: 11.6906 - root_mean_squared_error: 3.4186 - val_loss: 17.8045 - val_root_mean_squared_error: 4.2195\n",
            "Epoch 151/1500\n",
            "83/83 [==============================] - 8s 98ms/step - loss: 12.6592 - root_mean_squared_error: 3.5568 - val_loss: 16.6649 - val_root_mean_squared_error: 4.0823\n",
            "Epoch 152/1500\n",
            "83/83 [==============================] - 8s 98ms/step - loss: 10.8698 - root_mean_squared_error: 3.2968 - val_loss: 16.3156 - val_root_mean_squared_error: 4.0393\n",
            "Epoch 153/1500\n",
            "83/83 [==============================] - 8s 97ms/step - loss: 11.0158 - root_mean_squared_error: 3.3185 - val_loss: 16.9049 - val_root_mean_squared_error: 4.1116\n",
            "Epoch 154/1500\n",
            "83/83 [==============================] - 8s 97ms/step - loss: 10.5044 - root_mean_squared_error: 3.2408 - val_loss: 28.5114 - val_root_mean_squared_error: 5.3396\n",
            "Epoch 155/1500\n",
            "83/83 [==============================] - 8s 98ms/step - loss: 10.9359 - root_mean_squared_error: 3.3064 - val_loss: 19.7064 - val_root_mean_squared_error: 4.4392\n",
            "Epoch 156/1500\n",
            "83/83 [==============================] - 8s 98ms/step - loss: 11.0958 - root_mean_squared_error: 3.3303 - val_loss: 18.1770 - val_root_mean_squared_error: 4.2634\n",
            "Epoch 157/1500\n",
            "83/83 [==============================] - 8s 98ms/step - loss: 10.1171 - root_mean_squared_error: 3.1803 - val_loss: 19.8033 - val_root_mean_squared_error: 4.4501\n",
            "Epoch 158/1500\n",
            "83/83 [==============================] - 8s 98ms/step - loss: 10.5506 - root_mean_squared_error: 3.2479 - val_loss: 17.1108 - val_root_mean_squared_error: 4.1365\n",
            "Epoch 159/1500\n",
            "83/83 [==============================] - 8s 98ms/step - loss: 11.1179 - root_mean_squared_error: 3.3340 - val_loss: 19.3962 - val_root_mean_squared_error: 4.4041\n",
            "Epoch 160/1500\n",
            "83/83 [==============================] - 8s 98ms/step - loss: 10.9840 - root_mean_squared_error: 3.3129 - val_loss: 16.7039 - val_root_mean_squared_error: 4.0870\n",
            "Epoch 161/1500\n",
            "83/83 [==============================] - 8s 98ms/step - loss: 10.9900 - root_mean_squared_error: 3.3139 - val_loss: 20.0156 - val_root_mean_squared_error: 4.4739\n",
            "Epoch 162/1500\n",
            "83/83 [==============================] - 8s 98ms/step - loss: 10.2865 - root_mean_squared_error: 3.2071 - val_loss: 18.7651 - val_root_mean_squared_error: 4.3319\n",
            "Epoch 163/1500\n",
            "83/83 [==============================] - 8s 98ms/step - loss: 9.4982 - root_mean_squared_error: 3.0810 - val_loss: 16.3668 - val_root_mean_squared_error: 4.0456\n",
            "Epoch 164/1500\n",
            "83/83 [==============================] - 8s 98ms/step - loss: 10.8655 - root_mean_squared_error: 3.2945 - val_loss: 17.6958 - val_root_mean_squared_error: 4.2066\n",
            "Epoch 165/1500\n",
            "83/83 [==============================] - 8s 98ms/step - loss: 10.5124 - root_mean_squared_error: 3.2421 - val_loss: 18.5527 - val_root_mean_squared_error: 4.3073\n",
            "Epoch 166/1500\n",
            "83/83 [==============================] - 8s 98ms/step - loss: 9.9930 - root_mean_squared_error: 3.1608 - val_loss: 19.6714 - val_root_mean_squared_error: 4.4352\n",
            "Epoch 167/1500\n",
            "83/83 [==============================] - 8s 98ms/step - loss: 10.0486 - root_mean_squared_error: 3.1696 - val_loss: 20.0654 - val_root_mean_squared_error: 4.4794\n",
            "Epoch 168/1500\n",
            "83/83 [==============================] - 8s 98ms/step - loss: 9.6322 - root_mean_squared_error: 3.1029 - val_loss: 19.4536 - val_root_mean_squared_error: 4.4106\n",
            "Epoch 169/1500\n",
            "83/83 [==============================] - 8s 98ms/step - loss: 10.6406 - root_mean_squared_error: 3.2604 - val_loss: 18.5848 - val_root_mean_squared_error: 4.3110\n",
            "Epoch 170/1500\n",
            "83/83 [==============================] - 8s 98ms/step - loss: 9.7402 - root_mean_squared_error: 3.1207 - val_loss: 16.4778 - val_root_mean_squared_error: 4.0593\n",
            "Epoch 171/1500\n",
            "83/83 [==============================] - 8s 98ms/step - loss: 10.1699 - root_mean_squared_error: 3.1888 - val_loss: 17.3025 - val_root_mean_squared_error: 4.1596\n",
            "Epoch 172/1500\n",
            "83/83 [==============================] - 8s 98ms/step - loss: 9.8146 - root_mean_squared_error: 3.1323 - val_loss: 17.1372 - val_root_mean_squared_error: 4.1397\n",
            "Epoch 173/1500\n",
            "83/83 [==============================] - 8s 98ms/step - loss: 9.5422 - root_mean_squared_error: 3.0884 - val_loss: 17.7870 - val_root_mean_squared_error: 4.2175\n",
            "Epoch 174/1500\n",
            "83/83 [==============================] - 8s 98ms/step - loss: 9.1688 - root_mean_squared_error: 3.0278 - val_loss: 19.5158 - val_root_mean_squared_error: 4.4177\n",
            "Epoch 175/1500\n",
            "83/83 [==============================] - 8s 98ms/step - loss: 9.2113 - root_mean_squared_error: 3.0347 - val_loss: 16.7240 - val_root_mean_squared_error: 4.0895\n",
            "Epoch 176/1500\n",
            "83/83 [==============================] - 8s 97ms/step - loss: 9.4859 - root_mean_squared_error: 3.0792 - val_loss: 18.4324 - val_root_mean_squared_error: 4.2933\n",
            "Epoch 177/1500\n",
            "83/83 [==============================] - 8s 97ms/step - loss: 8.8803 - root_mean_squared_error: 2.9793 - val_loss: 17.2617 - val_root_mean_squared_error: 4.1547\n",
            "Epoch 178/1500\n",
            "83/83 [==============================] - 8s 98ms/step - loss: 9.8340 - root_mean_squared_error: 3.1343 - val_loss: 17.8583 - val_root_mean_squared_error: 4.2259\n",
            "Epoch 179/1500\n",
            "83/83 [==============================] - 8s 98ms/step - loss: 9.6631 - root_mean_squared_error: 3.1069 - val_loss: 18.7838 - val_root_mean_squared_error: 4.3340\n",
            "Epoch 180/1500\n",
            "83/83 [==============================] - 8s 97ms/step - loss: 9.6556 - root_mean_squared_error: 3.1065 - val_loss: 18.6459 - val_root_mean_squared_error: 4.3181\n",
            "Epoch 181/1500\n",
            "83/83 [==============================] - 8s 97ms/step - loss: 9.3593 - root_mean_squared_error: 3.0588 - val_loss: 29.6713 - val_root_mean_squared_error: 5.4471\n",
            "Epoch 182/1500\n",
            "83/83 [==============================] - 8s 97ms/step - loss: 10.1593 - root_mean_squared_error: 3.1865 - val_loss: 17.1847 - val_root_mean_squared_error: 4.1454\n",
            "Epoch 183/1500\n",
            "83/83 [==============================] - 8s 97ms/step - loss: 9.7466 - root_mean_squared_error: 3.1217 - val_loss: 17.4673 - val_root_mean_squared_error: 4.1794\n",
            "Epoch 184/1500\n",
            "83/83 [==============================] - 8s 97ms/step - loss: 9.2558 - root_mean_squared_error: 3.0415 - val_loss: 17.1891 - val_root_mean_squared_error: 4.1460\n",
            "Epoch 185/1500\n",
            "83/83 [==============================] - 8s 97ms/step - loss: 9.2865 - root_mean_squared_error: 3.0462 - val_loss: 16.4363 - val_root_mean_squared_error: 4.0542\n",
            "Epoch 186/1500\n",
            "83/83 [==============================] - 8s 97ms/step - loss: 8.7486 - root_mean_squared_error: 2.9573 - val_loss: 23.6516 - val_root_mean_squared_error: 4.8633\n",
            "Epoch 187/1500\n",
            "83/83 [==============================] - 8s 97ms/step - loss: 8.7996 - root_mean_squared_error: 2.9660 - val_loss: 17.5915 - val_root_mean_squared_error: 4.1942\n",
            "Epoch 188/1500\n",
            "83/83 [==============================] - 8s 98ms/step - loss: 8.7444 - root_mean_squared_error: 2.9566 - val_loss: 16.7716 - val_root_mean_squared_error: 4.0953\n",
            "Epoch 189/1500\n",
            "83/83 [==============================] - 8s 98ms/step - loss: 8.6392 - root_mean_squared_error: 2.9388 - val_loss: 18.8274 - val_root_mean_squared_error: 4.3391\n",
            "Epoch 190/1500\n",
            "83/83 [==============================] - 8s 98ms/step - loss: 9.1116 - root_mean_squared_error: 3.0179 - val_loss: 18.1604 - val_root_mean_squared_error: 4.2615\n",
            "Epoch 191/1500\n",
            "83/83 [==============================] - 8s 97ms/step - loss: 9.4600 - root_mean_squared_error: 3.0745 - val_loss: 22.3383 - val_root_mean_squared_error: 4.7263\n",
            "Epoch 192/1500\n",
            "83/83 [==============================] - 8s 97ms/step - loss: 9.4739 - root_mean_squared_error: 3.0770 - val_loss: 16.8011 - val_root_mean_squared_error: 4.0989\n",
            "Epoch 193/1500\n",
            "83/83 [==============================] - 8s 98ms/step - loss: 9.5604 - root_mean_squared_error: 3.0905 - val_loss: 17.7136 - val_root_mean_squared_error: 4.2088\n",
            "Epoch 194/1500\n",
            "83/83 [==============================] - 8s 97ms/step - loss: 8.6493 - root_mean_squared_error: 2.9398 - val_loss: 16.9666 - val_root_mean_squared_error: 4.1191\n",
            "Epoch 195/1500\n",
            "83/83 [==============================] - 8s 98ms/step - loss: 8.7114 - root_mean_squared_error: 2.9512 - val_loss: 19.2035 - val_root_mean_squared_error: 4.3822\n",
            "Epoch 196/1500\n",
            "83/83 [==============================] - 8s 98ms/step - loss: 8.7660 - root_mean_squared_error: 2.9605 - val_loss: 17.3357 - val_root_mean_squared_error: 4.1636\n",
            "Epoch 197/1500\n",
            "83/83 [==============================] - 8s 97ms/step - loss: 8.8325 - root_mean_squared_error: 2.9700 - val_loss: 19.3127 - val_root_mean_squared_error: 4.3946\n",
            "Epoch 198/1500\n",
            "83/83 [==============================] - 8s 97ms/step - loss: 9.1005 - root_mean_squared_error: 3.0165 - val_loss: 17.2355 - val_root_mean_squared_error: 4.1516\n",
            "Epoch 199/1500\n",
            "83/83 [==============================] - 8s 99ms/step - loss: 9.5806 - root_mean_squared_error: 3.0934 - val_loss: 19.3105 - val_root_mean_squared_error: 4.3944\n",
            "Epoch 200/1500\n",
            "83/83 [==============================] - 8s 98ms/step - loss: 9.0202 - root_mean_squared_error: 3.0027 - val_loss: 17.8240 - val_root_mean_squared_error: 4.2218\n",
            "Epoch 201/1500\n",
            "83/83 [==============================] - 8s 98ms/step - loss: 9.0906 - root_mean_squared_error: 3.0135 - val_loss: 16.9859 - val_root_mean_squared_error: 4.1214\n",
            "Epoch 202/1500\n",
            "83/83 [==============================] - 8s 97ms/step - loss: 9.2499 - root_mean_squared_error: 3.0409 - val_loss: 18.8638 - val_root_mean_squared_error: 4.3432\n",
            "Epoch 203/1500\n",
            "83/83 [==============================] - 8s 97ms/step - loss: 8.7208 - root_mean_squared_error: 2.9528 - val_loss: 23.2414 - val_root_mean_squared_error: 4.8209\n",
            "Epoch 204/1500\n",
            "83/83 [==============================] - 8s 97ms/step - loss: 8.4710 - root_mean_squared_error: 2.9097 - val_loss: 17.2783 - val_root_mean_squared_error: 4.1567\n",
            "Epoch 205/1500\n",
            "83/83 [==============================] - 8s 97ms/step - loss: 8.2380 - root_mean_squared_error: 2.8688 - val_loss: 17.1305 - val_root_mean_squared_error: 4.1389\n",
            "Epoch 206/1500\n",
            "83/83 [==============================] - 8s 98ms/step - loss: 8.5111 - root_mean_squared_error: 2.9166 - val_loss: 17.0998 - val_root_mean_squared_error: 4.1352\n",
            "Epoch 207/1500\n",
            "83/83 [==============================] - 8s 97ms/step - loss: 9.2157 - root_mean_squared_error: 3.0341 - val_loss: 17.3381 - val_root_mean_squared_error: 4.1639\n",
            "Epoch 208/1500\n",
            "83/83 [==============================] - 8s 97ms/step - loss: 8.0674 - root_mean_squared_error: 2.8399 - val_loss: 17.3047 - val_root_mean_squared_error: 4.1599\n",
            "Epoch 209/1500\n",
            "83/83 [==============================] - 8s 98ms/step - loss: 8.8678 - root_mean_squared_error: 2.9749 - val_loss: 17.1347 - val_root_mean_squared_error: 4.1394\n",
            "Epoch 210/1500\n",
            "83/83 [==============================] - 8s 97ms/step - loss: 9.3389 - root_mean_squared_error: 3.0539 - val_loss: 18.1888 - val_root_mean_squared_error: 4.2648\n",
            "Epoch 211/1500\n",
            "83/83 [==============================] - 8s 97ms/step - loss: 8.6697 - root_mean_squared_error: 2.9442 - val_loss: 17.0206 - val_root_mean_squared_error: 4.1256\n",
            "Epoch 212/1500\n",
            "83/83 [==============================] - 8s 97ms/step - loss: 8.1301 - root_mean_squared_error: 2.8510 - val_loss: 19.0442 - val_root_mean_squared_error: 4.3640\n",
            "Epoch 213/1500\n",
            "83/83 [==============================] - 8s 97ms/step - loss: 8.5466 - root_mean_squared_error: 2.9226 - val_loss: 16.8956 - val_root_mean_squared_error: 4.1104\n",
            "Epoch 214/1500\n",
            "83/83 [==============================] - 8s 97ms/step - loss: 8.1311 - root_mean_squared_error: 2.8505 - val_loss: 18.3392 - val_root_mean_squared_error: 4.2824\n",
            "Epoch 215/1500\n",
            "83/83 [==============================] - 8s 97ms/step - loss: 8.6901 - root_mean_squared_error: 2.9473 - val_loss: 17.6013 - val_root_mean_squared_error: 4.1954\n",
            "Epoch 216/1500\n",
            "83/83 [==============================] - 8s 97ms/step - loss: 8.1825 - root_mean_squared_error: 2.8601 - val_loss: 17.9480 - val_root_mean_squared_error: 4.2365\n",
            "Epoch 217/1500\n",
            "83/83 [==============================] - 8s 97ms/step - loss: 8.3326 - root_mean_squared_error: 2.8859 - val_loss: 17.8796 - val_root_mean_squared_error: 4.2284\n",
            "Epoch 218/1500\n",
            "83/83 [==============================] - 8s 97ms/step - loss: 8.1245 - root_mean_squared_error: 2.8498 - val_loss: 17.2072 - val_root_mean_squared_error: 4.1482\n",
            "Epoch 219/1500\n",
            "83/83 [==============================] - 8s 97ms/step - loss: 8.1383 - root_mean_squared_error: 2.8527 - val_loss: 18.9573 - val_root_mean_squared_error: 4.3540\n",
            "Epoch 220/1500\n",
            "83/83 [==============================] - 8s 97ms/step - loss: 8.0976 - root_mean_squared_error: 2.8452 - val_loss: 19.5155 - val_root_mean_squared_error: 4.4176\n",
            "Epoch 221/1500\n",
            "83/83 [==============================] - 8s 98ms/step - loss: 7.9487 - root_mean_squared_error: 2.8190 - val_loss: 18.4826 - val_root_mean_squared_error: 4.2991\n",
            "Epoch 222/1500\n",
            "83/83 [==============================] - 8s 98ms/step - loss: 8.3096 - root_mean_squared_error: 2.8822 - val_loss: 16.8564 - val_root_mean_squared_error: 4.1057\n",
            "Epoch 223/1500\n",
            "83/83 [==============================] - 8s 97ms/step - loss: 7.7430 - root_mean_squared_error: 2.7819 - val_loss: 16.0954 - val_root_mean_squared_error: 4.0119\n",
            "Epoch 224/1500\n",
            "83/83 [==============================] - 8s 97ms/step - loss: 7.3026 - root_mean_squared_error: 2.7013 - val_loss: 19.3987 - val_root_mean_squared_error: 4.4044\n",
            "Epoch 225/1500\n",
            "83/83 [==============================] - 8s 97ms/step - loss: 8.6067 - root_mean_squared_error: 2.9318 - val_loss: 21.7407 - val_root_mean_squared_error: 4.6627\n",
            "Epoch 226/1500\n",
            "83/83 [==============================] - 8s 97ms/step - loss: 8.0287 - root_mean_squared_error: 2.8327 - val_loss: 17.3296 - val_root_mean_squared_error: 4.1629\n",
            "Epoch 227/1500\n",
            "83/83 [==============================] - 8s 97ms/step - loss: 8.0629 - root_mean_squared_error: 2.8390 - val_loss: 19.1287 - val_root_mean_squared_error: 4.3736\n",
            "Epoch 228/1500\n",
            "83/83 [==============================] - 8s 97ms/step - loss: 7.8264 - root_mean_squared_error: 2.7969 - val_loss: 17.0880 - val_root_mean_squared_error: 4.1338\n",
            "Epoch 229/1500\n",
            "83/83 [==============================] - 8s 98ms/step - loss: 8.1075 - root_mean_squared_error: 2.8457 - val_loss: 20.8229 - val_root_mean_squared_error: 4.5632\n",
            "Epoch 230/1500\n",
            "83/83 [==============================] - 8s 97ms/step - loss: 7.5882 - root_mean_squared_error: 2.7527 - val_loss: 17.2278 - val_root_mean_squared_error: 4.1506\n",
            "Epoch 231/1500\n",
            "83/83 [==============================] - 8s 97ms/step - loss: 7.7899 - root_mean_squared_error: 2.7906 - val_loss: 19.0782 - val_root_mean_squared_error: 4.3679\n",
            "Epoch 00231: early stopping\n"
          ],
          "name": "stdout"
        }
      ]
    },
    {
      "cell_type": "code",
      "metadata": {
        "id": "fR7X7R20NAsp",
        "colab": {
          "base_uri": "https://localhost:8080/"
        },
        "outputId": "3d44e225-500f-4041-f6b6-d73b5172e06c"
      },
      "source": [
        "model.evaluate(test_x,test_y)"
      ],
      "execution_count": null,
      "outputs": [
        {
          "output_type": "stream",
          "text": [
            "29/29 [==============================] - 0s 11ms/step - loss: 33.8947 - root_mean_squared_error: 5.8219\n"
          ],
          "name": "stdout"
        },
        {
          "output_type": "execute_result",
          "data": {
            "text/plain": [
              "[33.894691467285156, 5.8219146728515625]"
            ]
          },
          "metadata": {
            "tags": []
          },
          "execution_count": 17
        }
      ]
    },
    {
      "cell_type": "code",
      "metadata": {
        "id": "HXXuOjQWPJWe"
      },
      "source": [
        "model.save('/content/drive/MyDrive/earthengine2/my_model_5.h5') "
      ],
      "execution_count": null,
      "outputs": []
    },
    {
      "cell_type": "code",
      "metadata": {
        "id": "M7yK56zI5RFk"
      },
      "source": [
        "# import random\r\n",
        "# index = [i for i in range(test_x.shape[0])] \r\n",
        "# random.Random(1).shuffle(index) #设置‘seed’，保证每次产生结果一致\r\n",
        "# #random.shuffle(index) \r\n",
        "# print(index)\r\n",
        "# print(max(index))\r\n",
        "# print(test_x.shape[0])"
      ],
      "execution_count": null,
      "outputs": []
    },
    {
      "cell_type": "code",
      "metadata": {
        "id": "448mePu5y02z"
      },
      "source": [
        "# test_x=np.load('/content/drive/MyDrive/earthengine2/test_x.npy')\r\n",
        "# test_y=np.load('/content/drive/MyDrive/earthengine2/test_y.npy')\r\n",
        "\r\n",
        "# print(test_x.shape)\r\n",
        "# print(test_y.shape)\r\n",
        "\r\n",
        "# #check  and drop nan values\r\n",
        "# idxs=np.where(np.isnan(np.sum(test_x,axis=(1,2,3))) == True)\r\n",
        "# print(idxs)\r\n",
        "# test_x=np.delete(test_x,idxs,0)\r\n",
        "# test_y=np.delete(test_y,idxs,0)\r\n",
        "\r\n",
        "# print('Final test shape')\r\n",
        "# print(test_x.shape)\r\n",
        "# print(test_y.shape)\r\n",
        "\r\n",
        "# from tensorflow import keras\r\n",
        "# model = keras.models.load_model('/content/drive/MyDrive/earthengine2/my_model2.h5')\r\n",
        "# model.evaluate(test_x,test_y)"
      ],
      "execution_count": null,
      "outputs": []
    },
    {
      "cell_type": "code",
      "metadata": {
        "id": "2LNsEglE0V4R",
        "colab": {
          "base_uri": "https://localhost:8080/"
        },
        "outputId": "2a8e537a-890f-4bb7-8084-0d8bda916e6f"
      },
      "source": [
        "np.sqrt(101.1)"
      ],
      "execution_count": null,
      "outputs": [
        {
          "output_type": "execute_result",
          "data": {
            "text/plain": [
              "10.054849576199537"
            ]
          },
          "metadata": {
            "tags": []
          },
          "execution_count": 21
        }
      ]
    },
    {
      "cell_type": "code",
      "metadata": {
        "id": "XtxTMH597eQC",
        "colab": {
          "base_uri": "https://localhost:8080/"
        },
        "outputId": "ea58de7a-3e20-4dac-9ee8-6cc1641ab4fc"
      },
      "source": [
        "print(history.history)"
      ],
      "execution_count": null,
      "outputs": [
        {
          "output_type": "stream",
          "text": [
            "{'loss': [1052.7337646484375, 94.6764907836914, 64.57591247558594, 60.84983444213867, 55.985740661621094, 52.45589828491211, 51.9180793762207, 49.155487060546875, 46.5092658996582, 43.49591827392578, 43.11273193359375, 40.86245346069336, 39.328338623046875, 38.354698181152344, 38.81635665893555, 36.418880462646484, 35.845375061035156, 35.369728088378906, 32.87131118774414, 33.5383186340332, 38.963443756103516, 42.10554122924805, 36.1738395690918, 37.3226203918457, 39.3778076171875, 35.65571594238281, 34.228668212890625, 38.91576385498047, 56.31050109863281, 40.310760498046875, 36.27898025512695, 35.90348815917969, 36.5632209777832, 34.78001022338867, 31.907976150512695, 32.18383026123047, 31.34433937072754, 31.723388671875, 29.92718505859375, 30.265119552612305, 30.43828582763672, 28.555187225341797, 27.961809158325195, 27.174272537231445, 27.480602264404297, 26.36625862121582, 26.078205108642578, 25.894214630126953, 26.343936920166016, 25.54969024658203, 114.85630798339844, 88.4675521850586, 68.82553100585938, 57.312015533447266, 51.625892639160156, 45.44562911987305, 45.738059997558594, 40.857749938964844, 39.7098503112793, 37.206302642822266, 37.77649688720703, 34.80074691772461, 33.80567932128906, 32.90754318237305, 31.546260833740234, 31.512556076049805, 32.52067565917969, 29.993305206298828, 28.81878089904785, 28.285999298095703, 28.086177825927734, 28.26215934753418, 27.385353088378906, 26.070085525512695, 26.78106117248535, 24.049760818481445, 24.874286651611328, 24.145401000976562, 23.5361328125, 23.954177856445312, 23.51703643798828, 21.97272491455078, 22.313535690307617, 22.049678802490234, 21.78190803527832, 22.61294174194336, 21.643619537353516, 20.452993392944336, 20.44390296936035, 20.0184383392334, 19.585769653320312, 19.06495475769043, 19.980104446411133, 19.308937072753906, 19.236452102661133, 18.116220474243164, 18.830659866333008, 18.1240177154541, 17.732114791870117, 19.15119743347168, 17.650314331054688, 17.41523551940918, 17.588117599487305, 17.530593872070312, 16.47303009033203, 16.291458129882812, 16.218950271606445, 17.193513870239258, 16.308183670043945, 15.679862022399902, 15.407008171081543, 15.79533863067627, 15.493254661560059, 14.924450874328613, 14.915119171142578, 14.738606452941895, 15.288599967956543, 14.547133445739746, 14.457296371459961, 14.201371192932129, 14.318692207336426, 13.724541664123535, 13.099714279174805, 13.984073638916016, 14.373481750488281, 13.79931640625, 13.394719123840332, 12.765090942382812, 13.220001220703125, 13.41054630279541, 13.416585922241211, 13.27673053741455, 12.476301193237305, 12.927973747253418, 12.139649391174316, 12.498459815979004, 12.977895736694336, 12.83466911315918, 12.480085372924805, 12.265107154846191, 12.417200088500977, 11.738570213317871, 12.263455390930176, 11.547403335571289, 11.982757568359375, 11.511259078979492, 11.516700744628906, 11.56365966796875, 11.460855484008789, 11.598466873168945, 11.854667663574219, 10.939253807067871, 11.482397079467773, 10.710665702819824, 10.873180389404297, 11.134660720825195, 10.513191223144531, 10.651803970336914, 11.006535530090332, 10.718093872070312, 11.114347457885742, 10.361502647399902, 9.91401481628418, 11.158183097839355, 10.616375923156738, 10.329662322998047, 10.079431533813477, 9.747666358947754, 10.323274612426758, 9.970808029174805, 10.14546012878418, 9.650911331176758, 9.869277000427246, 9.207723617553711, 9.40976619720459, 9.54921817779541, 9.06119441986084, 9.69167423248291, 10.270438194274902, 9.255454063415527, 9.609021186828613, 9.757559776306152, 9.68199634552002, 9.348989486694336, 9.204405784606934, 9.065629959106445, 8.895963668823242, 9.022143363952637, 9.071845054626465, 9.071141242980957, 9.812198638916016, 9.126063346862793, 9.799338340759277, 8.922871589660645, 8.809900283813477, 8.77362060546875, 8.891834259033203, 8.907722473144531, 9.560333251953125, 9.19629955291748, 8.950384140014648, 9.173828125, 8.558721542358398, 8.308332443237305, 8.51549243927002, 8.614891052246094, 8.71293830871582, 8.318467140197754, 8.849493026733398, 9.320662498474121, 8.595724105834961, 8.015366554260254, 8.734872817993164, 8.191113471984863, 8.551190376281738, 8.12618637084961, 8.59060287475586, 7.995942115783691, 8.217535018920898, 7.834063529968262, 7.685506820678711, 8.173521041870117, 7.757992267608643, 7.754389762878418, 8.294472694396973, 8.008931159973145, 8.08852481842041, 7.951870441436768, 8.47696304321289, 7.523019313812256, 8.033775329589844], 'root_mean_squared_error': [32.445858001708984, 9.730184555053711, 8.035913467407227, 7.800630569458008, 7.482361793518066, 7.242644309997559, 7.205420017242432, 7.011097431182861, 6.819770336151123, 6.5951433181762695, 6.566028594970703, 6.392374515533447, 6.271231174468994, 6.193117141723633, 6.2302775382995605, 6.034805774688721, 5.987100601196289, 5.9472455978393555, 5.73335075378418, 5.7912278175354, 6.24207067489624, 6.48887825012207, 6.014469146728516, 6.109224319458008, 6.275174140930176, 5.971240520477295, 5.850527286529541, 6.238250255584717, 7.504032135009766, 6.349075794219971, 6.023203372955322, 5.991951942443848, 6.0467529296875, 5.897458076477051, 5.648714542388916, 5.673079490661621, 5.598601341247559, 5.632351875305176, 5.470574378967285, 5.501374244689941, 5.517090320587158, 5.343705177307129, 5.287892818450928, 5.212894916534424, 5.242194175720215, 5.134808540344238, 5.106682300567627, 5.0886359214782715, 5.13263463973999, 5.054670333862305, 10.717103958129883, 9.405718803405762, 8.29611587524414, 7.570469856262207, 7.185115814208984, 6.741337299346924, 6.762991905212402, 6.392006874084473, 6.301575183868408, 6.099697113037109, 6.14625883102417, 5.8992156982421875, 5.814265251159668, 5.736509799957275, 5.616605758666992, 5.613604545593262, 5.702690124511719, 5.476614475250244, 5.368312835693359, 5.318458557128906, 5.2996392250061035, 5.316216468811035, 5.233101844787598, 5.105887413024902, 5.175042152404785, 4.904055595397949, 4.987412929534912, 4.913796901702881, 4.851405143737793, 4.89430046081543, 4.8494367599487305, 4.687507152557373, 4.723720550537109, 4.695708751678467, 4.66710901260376, 4.755306720733643, 4.652270317077637, 4.522498607635498, 4.521493434906006, 4.474196910858154, 4.425581455230713, 4.3663434982299805, 4.469911098480225, 4.394193649291992, 4.3859381675720215, 4.256315231323242, 4.339430809020996, 4.25723123550415, 4.210951805114746, 4.376208305358887, 4.20122766494751, 4.17315673828125, 4.193819046020508, 4.186954975128174, 4.0586981773376465, 4.0362677574157715, 4.027275562286377, 4.146506309509277, 4.038339138031006, 3.95978045463562, 3.9251761436462402, 3.974334955215454, 3.9361472129821777, 3.86321759223938, 3.8620097637176514, 3.8390891551971436, 3.9100639820098877, 3.814070463180542, 3.8022751808166504, 3.7684707641601562, 3.7840046882629395, 3.704664945602417, 3.6193528175354004, 3.7395284175872803, 3.7912375926971436, 3.714743137359619, 3.659879684448242, 3.572826862335205, 3.635931968688965, 3.662041187286377, 3.6628658771514893, 3.6437249183654785, 3.5321807861328125, 3.5955491065979004, 3.4842000007629395, 3.535315990447998, 3.602484703063965, 3.582550525665283, 3.5327165126800537, 3.50215744972229, 3.5238046646118164, 3.426159620285034, 3.5019216537475586, 3.3981471061706543, 3.4616119861602783, 3.392824649810791, 3.3936264514923096, 3.400538206100464, 3.3853886127471924, 3.4056522846221924, 3.443060874938965, 3.3074543476104736, 3.388568639755249, 3.2727153301239014, 3.297450542449951, 3.3368639945983887, 3.2424051761627197, 3.2637102603912354, 3.317610025405884, 3.2738499641418457, 3.3338186740875244, 3.218928813934326, 3.1486527919769287, 3.3403866291046143, 3.2582781314849854, 3.2139792442321777, 3.174812078475952, 3.1221253871917725, 3.2129852771759033, 3.157658576965332, 3.1851937770843506, 3.1065917015075684, 3.14154052734375, 3.0344231128692627, 3.0675342082977295, 3.0901808738708496, 3.0101819038391113, 3.113145351409912, 3.2047524452209473, 3.0422778129577637, 3.099842071533203, 3.123709201812744, 3.111590623855591, 3.0576117038726807, 3.033876419067383, 3.010918378829956, 2.9826102256774902, 3.003688335418701, 3.0119504928588867, 3.011833429336548, 3.1324429512023926, 3.020937442779541, 3.130389451980591, 2.9871175289154053, 2.9681475162506104, 2.9620296955108643, 2.9819178581237793, 2.9845807552337646, 3.0919787883758545, 3.0325400829315186, 2.9917192459106445, 3.0288329124450684, 2.9255292415618896, 2.882417917251587, 2.9181315898895264, 2.9351134300231934, 2.951768636703491, 2.8841753005981445, 2.9748096466064453, 3.05297589302063, 2.9318466186523438, 2.8311421871185303, 2.955481767654419, 2.8620121479034424, 2.924241781234741, 2.850646734237671, 2.9309730529785156, 2.827709674835205, 2.866624355316162, 2.7989397048950195, 2.7722747325897217, 2.8589370250701904, 2.7853171825408936, 2.78467059135437, 2.8800125122070312, 2.830005407333374, 2.8440332412719727, 2.819905996322632, 2.911522388458252, 2.742812395095825, 2.8343915939331055], 'val_loss': [100.41942596435547, 104.67569732666016, 250.1980438232422, 165.33712768554688, 151.40943908691406, 123.12545776367188, 118.20084381103516, 68.0982894897461, 46.6881103515625, 35.80361557006836, 35.75836944580078, 34.327632904052734, 27.722185134887695, 56.472530364990234, 28.4539737701416, 23.420705795288086, 33.32040023803711, 25.142946243286133, 26.82889747619629, 25.47943115234375, 4514.736328125, 33.11819076538086, 25.636762619018555, 69241.640625, 32.68613052368164, 51.26213455200195, 23.2429256439209, 2834505.5, 374.7189025878906, 29.36168098449707, 32.507869720458984, 27.70366859436035, 24.751266479492188, 30.619518280029297, 28.152843475341797, 21.793968200683594, 23.155759811401367, 23.485607147216797, 29.24686622619629, 27.133020401000977, 22.284521102905273, 28.127927780151367, 20.22818946838379, 19.431716918945312, 22.61494255065918, 27.380361557006836, 22.19132423400879, 23.559017181396484, 64.04000854492188, 35.40057373046875, 1790.88623046875, 82.37671661376953, 31.992483139038086, 28.844223022460938, 29.612258911132812, 27.326459884643555, 29.08252716064453, 24.259611129760742, 23.39528465270996, 23.191755294799805, 22.69106674194336, 21.47388458251953, 32.01148986816406, 19.041292190551758, 21.203357696533203, 22.067663192749023, 20.37968635559082, 32.073341369628906, 25.433916091918945, 17.82933235168457, 20.68303871154785, 22.86540985107422, 18.875011444091797, 21.968900680541992, 20.527057647705078, 17.880340576171875, 18.41244888305664, 19.359437942504883, 18.4642333984375, 17.668243408203125, 17.643537521362305, 18.577198028564453, 18.108034133911133, 16.423973083496094, 16.789443969726562, 17.5654354095459, 19.204681396484375, 21.838315963745117, 19.69736671447754, 17.45442771911621, 19.74127197265625, 17.16729164123535, 19.22696304321289, 19.94696617126465, 16.81303596496582, 17.33858299255371, 16.889833450317383, 17.31040382385254, 20.634782791137695, 16.84406280517578, 21.42767333984375, 18.081113815307617, 18.19532585144043, 17.680683135986328, 16.23575210571289, 19.03566551208496, 16.578102111816406, 18.241806030273438, 17.588687896728516, 17.911422729492188, 17.10231590270996, 17.13581657409668, 17.170631408691406, 17.232759475708008, 17.666452407836914, 17.394962310791016, 16.67262840270996, 21.712623596191406, 16.87073516845703, 29.98153305053711, 18.72081184387207, 17.470083236694336, 17.69413185119629, 22.77645492553711, 17.405553817749023, 17.56132698059082, 18.862361907958984, 17.537771224975586, 16.964550018310547, 21.67244529724121, 16.040761947631836, 17.874868392944336, 19.01144027709961, 16.852840423583984, 16.683433532714844, 16.378324508666992, 17.39101219177246, 18.28199005126953, 17.714754104614258, 16.89164924621582, 18.812042236328125, 17.686582565307617, 17.335363388061523, 17.177518844604492, 16.73143196105957, 20.947711944580078, 21.25287628173828, 16.515798568725586, 17.460975646972656, 17.804466247558594, 16.664892196655273, 16.315603256225586, 16.90487289428711, 28.511396408081055, 19.706417083740234, 18.176959991455078, 19.803279876708984, 17.110815048217773, 19.396207809448242, 16.70391273498535, 20.015621185302734, 18.76506233215332, 16.366788864135742, 17.69576644897461, 18.552709579467773, 19.671403884887695, 20.065433502197266, 19.453577041625977, 18.58478355407715, 16.477848052978516, 17.30250358581543, 17.137195587158203, 17.786964416503906, 19.515783309936523, 16.724027633666992, 18.43242073059082, 17.2617244720459, 17.858266830444336, 18.783767700195312, 18.6458740234375, 29.671266555786133, 17.18465232849121, 17.467336654663086, 17.189088821411133, 16.436328887939453, 23.651601791381836, 17.59149742126465, 16.771560668945312, 18.827407836914062, 18.160442352294922, 22.338329315185547, 16.80108070373535, 17.71364402770996, 16.966636657714844, 19.203510284423828, 17.335729598999023, 19.312667846679688, 17.23546028137207, 19.310543060302734, 17.824018478393555, 16.985916137695312, 18.863807678222656, 23.241430282592773, 17.278322219848633, 17.13047981262207, 17.09984588623047, 17.33806037902832, 17.304712295532227, 17.134716033935547, 18.188844680786133, 17.020620346069336, 19.044160842895508, 16.895614624023438, 18.339200973510742, 17.601308822631836, 17.94802474975586, 17.879627227783203, 17.207151412963867, 18.95734405517578, 19.515470504760742, 18.482593536376953, 16.856435775756836, 16.095413208007812, 19.398727416992188, 21.74072265625, 17.32956886291504, 19.12871551513672, 17.08802604675293, 20.822898864746094, 17.22779655456543, 19.078214645385742], 'val_root_mean_squared_error': [10.020949363708496, 10.231114387512207, 15.817649841308594, 12.858348846435547, 12.304854393005371, 11.09619140625, 10.872020721435547, 8.252168655395508, 6.832870006561279, 5.983612060546875, 5.979830265045166, 5.858978748321533, 5.265186309814453, 7.514820575714111, 5.334226608276367, 4.839494228363037, 5.772382736206055, 5.0142741203308105, 5.179661750793457, 5.047715663909912, 67.19178771972656, 5.754840850830078, 5.0632758140563965, 263.1380615234375, 5.7171783447265625, 7.1597580909729, 4.821091651916504, 1683.5989990234375, 19.35765838623047, 5.418642044067383, 5.70156717300415, 5.263427257537842, 4.975064277648926, 5.5334906578063965, 5.305925369262695, 4.66840124130249, 4.812043190002441, 4.846195220947266, 5.408037185668945, 5.20893669128418, 4.720648288726807, 5.303576946258545, 4.497575759887695, 4.40814208984375, 4.75551700592041, 5.232624530792236, 4.710766792297363, 4.853763103485107, 8.002500534057617, 5.949838161468506, 42.31886291503906, 9.076162338256836, 5.656189918518066, 5.3706817626953125, 5.441714763641357, 5.227471828460693, 5.392821788787842, 4.9254045486450195, 4.836867332458496, 4.815782070159912, 4.763514041900635, 4.6339921951293945, 5.657869815826416, 4.363632678985596, 4.604710578918457, 4.697623252868652, 4.5143866539001465, 5.663332939147949, 5.0432047843933105, 4.222479343414307, 4.547861099243164, 4.781778812408447, 4.34453821182251, 4.687099456787109, 4.530679702758789, 4.228515148162842, 4.29097318649292, 4.399936199188232, 4.297002792358398, 4.2033610343933105, 4.200421333312988, 4.310127258300781, 4.2553534507751465, 4.052649974822998, 4.097492218017578, 4.1911139488220215, 4.382314682006836, 4.6731486320495605, 4.43817138671875, 4.177849769592285, 4.443115234375, 4.143342971801758, 4.384856224060059, 4.466202735900879, 4.100370407104492, 4.163962364196777, 4.109724044799805, 4.160577297210693, 4.542552471160889, 4.104151725769043, 4.629003524780273, 4.2521891593933105, 4.265597820281982, 4.204840660095215, 4.029361248016357, 4.362987995147705, 4.071621417999268, 4.271042823791504, 4.193886756896973, 4.232188701629639, 4.135494709014893, 4.139543056488037, 4.1437458992004395, 4.151236057281494, 4.203147888183594, 4.170726776123047, 4.083212852478027, 4.6596808433532715, 4.107399940490723, 5.475539684295654, 4.326755523681641, 4.179722785949707, 4.20643949508667, 4.772468566894531, 4.171996593475342, 4.190623760223389, 4.343081951141357, 4.187812328338623, 4.118804454803467, 4.655367374420166, 4.005092144012451, 4.22786808013916, 4.36021089553833, 4.105221271514893, 4.084536075592041, 4.047014236450195, 4.170253276824951, 4.275744438171387, 4.208889961242676, 4.109945297241211, 4.337285041809082, 4.205542087554932, 4.163575649261475, 4.1445770263671875, 4.090407371520996, 4.57686710357666, 4.610084056854248, 4.063963413238525, 4.178633213043213, 4.219533920288086, 4.082265377044678, 4.039257526397705, 4.11155366897583, 5.339606285095215, 4.439190864562988, 4.263444423675537, 4.450087547302246, 4.13652229309082, 4.404112815856934, 4.087041854858398, 4.47388219833374, 4.3318657875061035, 4.045588970184326, 4.206633567810059, 4.307285785675049, 4.435245513916016, 4.479445457458496, 4.410621166229248, 4.311007022857666, 4.059291362762451, 4.159627914428711, 4.13970947265625, 4.217459678649902, 4.417667388916016, 4.089502334594727, 4.293299674987793, 4.154723167419434, 4.22590446472168, 4.334024429321289, 4.318086624145508, 5.447134017944336, 4.145437717437744, 4.179394245147705, 4.145972728729248, 4.054174423217773, 4.863291263580322, 4.1942219734191895, 4.095309734344482, 4.339056015014648, 4.261507034301758, 4.726344108581543, 4.098912239074707, 4.2087578773498535, 4.119057655334473, 4.382181167602539, 4.1636199951171875, 4.394618034362793, 4.151561260223389, 4.394376277923584, 4.2218499183654785, 4.121397495269775, 4.34324836730957, 4.820936679840088, 4.156720161437988, 4.1388983726501465, 4.135196208953857, 4.1638994216918945, 4.15989351272583, 4.139410018920898, 4.264838218688965, 4.125605583190918, 4.363961696624756, 4.110427379608154, 4.282429218292236, 4.1953911781311035, 4.236510753631592, 4.22843074798584, 4.148150444030762, 4.354003429412842, 4.41763162612915, 4.29913854598999, 4.105659008026123, 4.011909008026123, 4.404398441314697, 4.662694931030273, 4.162879943847656, 4.37363862991333, 4.1337666511535645, 4.563211441040039, 4.150638103485107, 4.367861747741699]}\n"
          ],
          "name": "stdout"
        }
      ]
    },
    {
      "cell_type": "code",
      "metadata": {
        "id": "jVbJ-hI95SzT",
        "colab": {
          "base_uri": "https://localhost:8080/",
          "height": 290
        },
        "outputId": "0361de7c-314b-43ff-8563-bed960bca514"
      },
      "source": [
        "def plot_loss(history):\r\n",
        "  plt.plot(history.history['loss'], label='loss')\r\n",
        "  plt.plot(history.history['val_loss'], label='val_loss')\r\n",
        "  #plt.ylim([0, 50])\r\n",
        "  plt.xlabel('Epoch')\r\n",
        "  plt.ylabel('Error [yield]')\r\n",
        "  plt.legend()\r\n",
        "  plt.grid(True)\r\n",
        "\r\n",
        "plot_loss(history)"
      ],
      "execution_count": null,
      "outputs": [
        {
          "output_type": "display_data",
          "data": {
            "image/png": "[encoded data removed]",
            "text/plain": [
              "<Figure size 432x288 with 1 Axes>"
            ]
          },
          "metadata": {
            "tags": [],
            "needs_background": "light"
          }
        }
      ]
    },
    {
      "cell_type": "code",
      "metadata": {
        "id": "as0CZbDg7YWC"
      },
      "source": [
        "#plot_loss(history)"
      ],
      "execution_count": null,
      "outputs": []
    },
    {
      "cell_type": "code",
      "metadata": {
        "id": "Zz7Yar3P-3Ft",
        "colab": {
          "base_uri": "https://localhost:8080/",
          "height": 430
        },
        "outputId": "fad9d2a4-e33a-4f46-9102-1d2c96c98452"
      },
      "source": [
        "hist = pd.DataFrame(history.history)\r\n",
        "print(hist)\r\n",
        "hist['epoch'] = history.epoch\r\n",
        "hist.tail()"
      ],
      "execution_count": null,
      "outputs": [
        {
          "output_type": "stream",
          "text": [
            "            loss  ...  val_root_mean_squared_error\n",
            "0    1052.733765  ...                    10.020949\n",
            "1      94.676491  ...                    10.231114\n",
            "2      64.575912  ...                    15.817650\n",
            "3      60.849834  ...                    12.858349\n",
            "4      55.985741  ...                    12.304854\n",
            "..           ...  ...                          ...\n",
            "226     8.088525  ...                     4.373639\n",
            "227     7.951870  ...                     4.133767\n",
            "228     8.476963  ...                     4.563211\n",
            "229     7.523019  ...                     4.150638\n",
            "230     8.033775  ...                     4.367862\n",
            "\n",
            "[231 rows x 4 columns]\n"
          ],
          "name": "stdout"
        },
        {
          "output_type": "execute_result",
          "data": {
            "text/html": [
              "<div>\n",
              "<style scoped>\n",
              "    .dataframe tbody tr th:only-of-type {\n",
              "        vertical-align: middle;\n",
              "    }\n",
              "\n",
              "    .dataframe tbody tr th {\n",
              "        vertical-align: top;\n",
              "    }\n",
              "\n",
              "    .dataframe thead th {\n",
              "        text-align: right;\n",
              "    }\n",
              "</style>\n",
              "<table border=\"1\" class=\"dataframe\">\n",
              "  <thead>\n",
              "    <tr style=\"text-align: right;\">\n",
              "      <th></th>\n",
              "      <th>loss</th>\n",
              "      <th>root_mean_squared_error</th>\n",
              "      <th>val_loss</th>\n",
              "      <th>val_root_mean_squared_error</th>\n",
              "      <th>epoch</th>\n",
              "    </tr>\n",
              "  </thead>\n",
              "  <tbody>\n",
              "    <tr>\n",
              "      <th>226</th>\n",
              "      <td>8.088525</td>\n",
              "      <td>2.844033</td>\n",
              "      <td>19.128716</td>\n",
              "      <td>4.373639</td>\n",
              "      <td>226</td>\n",
              "    </tr>\n",
              "    <tr>\n",
              "      <th>227</th>\n",
              "      <td>7.951870</td>\n",
              "      <td>2.819906</td>\n",
              "      <td>17.088026</td>\n",
              "      <td>4.133767</td>\n",
              "      <td>227</td>\n",
              "    </tr>\n",
              "    <tr>\n",
              "      <th>228</th>\n",
              "      <td>8.476963</td>\n",
              "      <td>2.911522</td>\n",
              "      <td>20.822899</td>\n",
              "      <td>4.563211</td>\n",
              "      <td>228</td>\n",
              "    </tr>\n",
              "    <tr>\n",
              "      <th>229</th>\n",
              "      <td>7.523019</td>\n",
              "      <td>2.742812</td>\n",
              "      <td>17.227797</td>\n",
              "      <td>4.150638</td>\n",
              "      <td>229</td>\n",
              "    </tr>\n",
              "    <tr>\n",
              "      <th>230</th>\n",
              "      <td>8.033775</td>\n",
              "      <td>2.834392</td>\n",
              "      <td>19.078215</td>\n",
              "      <td>4.367862</td>\n",
              "      <td>230</td>\n",
              "    </tr>\n",
              "  </tbody>\n",
              "</table>\n",
              "</div>"
            ],
            "text/plain": [
              "         loss  root_mean_squared_error  ...  val_root_mean_squared_error  epoch\n",
              "226  8.088525                 2.844033  ...                     4.373639    226\n",
              "227  7.951870                 2.819906  ...                     4.133767    227\n",
              "228  8.476963                 2.911522  ...                     4.563211    228\n",
              "229  7.523019                 2.742812  ...                     4.150638    229\n",
              "230  8.033775                 2.834392  ...                     4.367862    230\n",
              "\n",
              "[5 rows x 5 columns]"
            ]
          },
          "metadata": {
            "tags": []
          },
          "execution_count": 25
        }
      ]
    },
    {
      "cell_type": "code",
      "metadata": {
        "id": "THKeExRm-8rK"
      },
      "source": [
        "y1=model.predict(test_x)"
      ],
      "execution_count": null,
      "outputs": []
    },
    {
      "cell_type": "code",
      "metadata": {
        "id": "oQ42tTOq_vtG",
        "colab": {
          "base_uri": "https://localhost:8080/"
        },
        "outputId": "ea2ea15b-30fc-4891-ea92-7ca8fbb663eb"
      },
      "source": [
        "model.summary()"
      ],
      "execution_count": null,
      "outputs": [
        {
          "output_type": "stream",
          "text": [
            "Model: \"sequential\"\n",
            "_________________________________________________________________\n",
            "Layer (type)                 Output Shape              Param #   \n",
            "=================================================================\n",
            "conv2d (Conv2D)              (None, 32, 32, 128)       10496     \n",
            "_________________________________________________________________\n",
            "batch_normalization (BatchNo (None, 32, 32, 128)       512       \n",
            "_________________________________________________________________\n",
            "dropout (Dropout)            (None, 32, 32, 128)       0         \n",
            "_________________________________________________________________\n",
            "conv2d_1 (Conv2D)            (None, 15, 15, 256)       295168    \n",
            "_________________________________________________________________\n",
            "batch_normalization_1 (Batch (None, 15, 15, 256)       1024      \n",
            "_________________________________________________________________\n",
            "dropout_1 (Dropout)          (None, 15, 15, 256)       0         \n",
            "_________________________________________________________________\n",
            "conv2d_2 (Conv2D)            (None, 13, 13, 256)       590080    \n",
            "_________________________________________________________________\n",
            "batch_normalization_2 (Batch (None, 13, 13, 256)       1024      \n",
            "_________________________________________________________________\n",
            "dropout_2 (Dropout)          (None, 13, 13, 256)       0         \n",
            "_________________________________________________________________\n",
            "conv2d_3 (Conv2D)            (None, 6, 6, 512)         1180160   \n",
            "_________________________________________________________________\n",
            "batch_normalization_3 (Batch (None, 6, 6, 512)         2048      \n",
            "_________________________________________________________________\n",
            "dropout_3 (Dropout)          (None, 6, 6, 512)         0         \n",
            "_________________________________________________________________\n",
            "conv2d_4 (Conv2D)            (None, 4, 4, 512)         2359808   \n",
            "_________________________________________________________________\n",
            "batch_normalization_4 (Batch (None, 4, 4, 512)         2048      \n",
            "_________________________________________________________________\n",
            "dropout_4 (Dropout)          (None, 4, 4, 512)         0         \n",
            "_________________________________________________________________\n",
            "conv2d_5 (Conv2D)            (None, 1, 1, 1024)        4719616   \n",
            "_________________________________________________________________\n",
            "batch_normalization_5 (Batch (None, 1, 1, 1024)        4096      \n",
            "_________________________________________________________________\n",
            "dropout_5 (Dropout)          (None, 1, 1, 1024)        0         \n",
            "_________________________________________________________________\n",
            "flatten (Flatten)            (None, 1024)              0         \n",
            "_________________________________________________________________\n",
            "dense (Dense)                (None, 1024)              1049600   \n",
            "_________________________________________________________________\n",
            "dense_1 (Dense)              (None, 1)                 1025      \n",
            "=================================================================\n",
            "Total params: 10,216,705\n",
            "Trainable params: 10,211,329\n",
            "Non-trainable params: 5,376\n",
            "_________________________________________________________________\n"
          ],
          "name": "stdout"
        }
      ]
    }
  ]
}